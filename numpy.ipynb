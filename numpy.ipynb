{
 "cells": [
  {
   "cell_type": "markdown",
   "id": "68bce634-3060-46e8-905a-0f95a3ec7ca8",
   "metadata": {},
   "source": [
    "# Numpy基础\n",
    "\n",
    "http://jalammar.github.io/visual-numpy/\n",
    "\n",
    "https://betterprogramming.pub/numpy-illustrated-the-visual-guide-to-numpy-3b1d4976de1d"
   ]
  },
  {
   "cell_type": "markdown",
   "id": "e128fcf6-6447-45de-b5ac-dc0490c50c18",
   "metadata": {},
   "source": [
    "**安装** Jupyer Notebook里，在要执行的命令前加 **!**"
   ]
  },
  {
   "cell_type": "code",
   "execution_count": null,
   "id": "768a2e84-20a2-4dad-9155-23f3d26f9e4a",
   "metadata": {},
   "outputs": [],
   "source": [
    "# !pip install numpy"
   ]
  },
  {
   "cell_type": "markdown",
   "id": "dbaf180f-96ad-4e4a-a54d-ea957346001c",
   "metadata": {},
   "source": [
    "或者，用conda安装\n",
    "```shell\n",
    "$ conda activate learn\n",
    "$ conda install numpy\n",
    "```\n",
    "确认numpy正确安装："
   ]
  },
  {
   "cell_type": "code",
   "execution_count": null,
   "id": "6964032d-e5a8-4ca1-9121-24bea1d2388f",
   "metadata": {},
   "outputs": [],
   "source": [
    "import numpy as np\n",
    "print(np.random.rand(5,5))"
   ]
  },
  {
   "cell_type": "markdown",
   "id": "2949afd9-4a4c-4083-aeca-bd1460c6fa48",
   "metadata": {},
   "source": [
    "## 创建数组\n",
    "\n",
    "Numpy的核心特征之一就是N-维数组对象——ndarray。ndarray快速、灵活的大型数组容器。数组允许使用类似于标量的操作语法在整块数据上进行数学计算。\n",
    "我们可以通过传递一个 python 列表，使用方法 “np.array()” 创建一个 NumPy 数组。\n",
    "![](numpy.assets/create-numpy-array-1.png)\n",
    "\n",
    "在很多场景下，我们希望 NumPy 能够帮我们初始化数组。 NumPy 提供了一些方法，比如 `ones()`, `zeros()` 和 `random.random()`。 我们只需要提供数组大小\n",
    "![](numpy.assets/create-numpy-array-ones-zeros-random.png)\n",
    "\n"
   ]
  },
  {
   "cell_type": "code",
   "execution_count": null,
   "id": "f9361299-eaae-47dc-8ece-756485f06250",
   "metadata": {},
   "outputs": [],
   "source": [
    "a = np.array([1, 2, 3])\n",
    "b = np.ones(3)\n",
    "c = np.zeros(3)\n",
    "d = np.random.random(3)\n",
    "print(a, b, c, d)"
   ]
  },
  {
   "cell_type": "markdown",
   "id": "29abed1d-e0b3-443e-9ba6-94b76eb0027c",
   "metadata": {},
   "source": [
    "## 数组运算\n",
    "\n",
    "我们首先创建两个 `NumPy` 数组，一个是 `data` 数组，一个是 `ones`数组：\n",
    "![](numpy.assets/numpy-arrays-example-1.png)\n",
    "\n",
    "将他们按照位置顺序（比如每行的值）相加，`data + ones`:\n",
    "![](numpy.assets/numpy-arrays-adding-1.png)"
   ]
  },
  {
   "cell_type": "code",
   "execution_count": null,
   "id": "72075b07-bd9c-47f9-8116-ac12e448f17d",
   "metadata": {},
   "outputs": [],
   "source": [
    "data = np.array([1, 2])\n",
    "ones = np.ones(2)\n",
    "print(data+ones)"
   ]
  },
  {
   "cell_type": "markdown",
   "id": "1f87ddc5-f017-48a0-8735-a1d2fb33878b",
   "metadata": {},
   "source": [
    "当我学这些的时候我意识到这可以让我不需要在代码中使用循环来计算这些。这种抽象能让你站在更高的角度去考虑问题。并且，不只有加法，我们还可以以如下方式去计算：\n",
    "\n",
    "![](numpy.assets/numpy-array-subtract-multiply-divide.png)\n",
    "\n",
    "有一些经常需要计算一个数组和一个数字的操作（也称作对向量和标量的操作）。比如，我们的数组用英里表示距离，我们想转换成公里（ 1英里(mi) = 1.60934千米(公里) ），可以使用：`data * 1.6`:\n",
    "![](numpy.assets/numpy-array-broadcast.png)"
   ]
  },
  {
   "cell_type": "code",
   "execution_count": null,
   "id": "c615d57f-f913-4568-84d5-f08ed3dbeb67",
   "metadata": {},
   "outputs": [],
   "source": [
    "print(data * 1.6 + 1)"
   ]
  },
  {
   "cell_type": "markdown",
   "id": "c32467db-e641-4ade-93ae-19d8ec93a06e",
   "metadata": {},
   "source": [
    "可以看到 NumPy 的乘运算是对每一个单元都进行计算，这是称作 **广播（broadcast）**的一种机制，是非常有用的。"
   ]
  },
  {
   "cell_type": "markdown",
   "id": "00337398-11aa-42d1-9993-5577c18d45d8",
   "metadata": {},
   "source": [
    "## 索引\n",
    "\n",
    "我们可以对 NumPy 数组进行索引或者切片就像对 python 列表一样的操作：\n",
    "\n",
    "![](numpy.assets/numpy-array-slice.png)"
   ]
  },
  {
   "cell_type": "code",
   "execution_count": null,
   "id": "d8e27a60-25fc-476a-af75-79f83a66e7d3",
   "metadata": {},
   "outputs": [],
   "source": [
    "data = np.arange(1, 4)\n",
    "print(data[0], data[1], data[0:2], data[1:])"
   ]
  },
  {
   "cell_type": "markdown",
   "id": "807b3b62-e1eb-48a2-b98f-5ba8a433770b",
   "metadata": {},
   "source": [
    "## 聚合\n",
    "\n",
    "NumPy 提供的另外一个优点是聚合功能：\n",
    "\n",
    "![](numpy.assets/numpy-array-aggregation.png)\n",
    "\n",
    "除了 `min`, `max` 和 `sum`, 还有 `mean` 可以获取平均值，`prod` 可以获取所有元素相乘的结果， `std` 可以获取标准差，等等其他功能"
   ]
  },
  {
   "cell_type": "code",
   "execution_count": null,
   "id": "a79cd542-7a86-41b0-b669-59b8bf1afc2a",
   "metadata": {},
   "outputs": [],
   "source": [
    "data = np.arange(1, 4)\n",
    "print(f\"{data.max()=}\")\n",
    "print(f\"{data.min()=}\")\n",
    "print(f\"{data.sum()=}\")\n",
    "print(f\"{data.mean()=}\")\n",
    "print(f\"{data.prod()=}\")\n",
    "print(f\"{data.std()=}\")"
   ]
  },
  {
   "cell_type": "markdown",
   "id": "a6662d56-3825-4df3-a614-666084fe6c72",
   "metadata": {},
   "source": [
    "## 多维\n",
    "\n",
    "目前我们看到的例子都是一维向量。 NumPy 一个优雅的特性就是能将我们目前看到的所有特性扩展到任何维度。"
   ]
  },
  {
   "cell_type": "markdown",
   "id": "700dbdb6-bc49-4ca3-9f25-f106c7e34f57",
   "metadata": {},
   "source": [
    "## 创建矩阵\n",
    "\n",
    "我们可以传递一个 python 列表（多维列表），如下图，使用 NumPy 去创建一个矩阵来表示他们："
   ]
  },
  {
   "cell_type": "code",
   "execution_count": null,
   "id": "bdcd6bc6-415c-461c-bc5f-a450fb782b17",
   "metadata": {},
   "outputs": [],
   "source": [
    "np.array([[1,2],[3,4]])"
   ]
  },
  {
   "cell_type": "markdown",
   "id": "4582e441-b491-4cb0-98e6-838628146b8a",
   "metadata": {},
   "source": [
    "![](numpy.assets/numpy-array-create-2d.png)\n",
    "\n",
    "还可以使用上面提到的方法（ `ones()`, `zeros()`, 和 `random.random()` ）只要提供一个元组来描述矩阵的维度信息，如下图：\n",
    "\n",
    "![](numpy.assets/numpy-matrix-ones-zeros-random.png)"
   ]
  },
  {
   "cell_type": "markdown",
   "id": "798acaad-4535-4e7a-ab0b-6c5b66ecfe84",
   "metadata": {},
   "source": [
    "## 矩阵运算\n",
    "\n",
    "如果两个矩阵的行列数相同，我们可以使用运算符（`+ - * /`）对矩阵进行运算。NumPy 也是基于位置来进行操作：\n",
    "\n",
    "![](numpy.assets/numpy-matrix-arithmetic.png)"
   ]
  },
  {
   "cell_type": "code",
   "execution_count": null,
   "id": "d03eb05a-deec-49d6-8429-10ae4d450502",
   "metadata": {},
   "outputs": [],
   "source": [
    "data = np.arange(1, 5).reshape((2, 2))\n",
    "ones = np.ones((2, 2))\n",
    "print(data + ones)"
   ]
  },
  {
   "cell_type": "markdown",
   "id": "a1eac09f-61b2-4a6d-8d7c-1d05167af6fb",
   "metadata": {},
   "source": [
    "## 点积（Dot Product）"
   ]
  },
  {
   "cell_type": "code",
   "execution_count": null,
   "id": "ffaeb1e1-22fd-46bf-aff7-f53ce20c95a7",
   "metadata": {},
   "outputs": [],
   "source": [
    "np.array([[1, 2, 3]]).dot(np.array([[1, 10], [100, 1000], [10000, 100000]]))"
   ]
  },
  {
   "cell_type": "markdown",
   "id": "c7e555aa-ef39-476b-a0c2-bebfcea7190f",
   "metadata": {},
   "source": [
    "和前面的算术运算的一个关键区别是在对矩阵进行这类乘法时使用点积操作时，NumPy 为矩阵提供了一个 dot() 方法，可以计算出矩阵的点积：\n",
    "\n",
    "![](numpy.assets/numpy-matrix-dot-product-1.png)\n",
    "\n",
    "我已经在图片的底部加入了矩阵的维度信息，强调了不同维度的矩阵，在点乘时相邻的维度必须相同（就是 1×3 的矩阵和 3×2的矩阵相乘，前者的列维度和后者的行维度相同（译者注））。你可以想象是进行了如下的操作：\n",
    "\n",
    "![](numpy.assets/numpy-matrix-dot-product-2.png)"
   ]
  },
  {
   "cell_type": "markdown",
   "id": "ac85ca89-0a45-4f91-8570-76975ecd6f28",
   "metadata": {},
   "source": [
    "## 矩阵索引\n",
    "\n",
    "当我们使用矩阵的时候索引和切片功能将更加有用："
   ]
  },
  {
   "cell_type": "code",
   "execution_count": null,
   "id": "efb21f31-7638-42ce-9437-9ffac7399cae",
   "metadata": {},
   "outputs": [],
   "source": [
    "data = np.arange(1, 7).reshape(3, 2)\n",
    "print(data[0,1])\n",
    "print(data[1:3])\n",
    "print(data[0:2,0])"
   ]
  },
  {
   "cell_type": "markdown",
   "id": "4433516b-4788-41ab-b84b-8e0d6bba9c24",
   "metadata": {},
   "source": [
    "![](numpy.assets/numpy-matrix-indexing.png)"
   ]
  },
  {
   "cell_type": "markdown",
   "id": "2c9a2676-90d8-46a9-828d-971c4190ddcd",
   "metadata": {},
   "source": [
    "## 矩阵聚合\n",
    "\n",
    "与向量（数组）相同，可以对矩阵进行类似的聚合操作："
   ]
  },
  {
   "cell_type": "code",
   "execution_count": null,
   "id": "241db928-ab15-495a-93b1-603a8dfac942",
   "metadata": {},
   "outputs": [],
   "source": [
    "data = np.arange(1, 7).reshape(3, -1)\n",
    "print(f\"{data.max()=}\")\n",
    "print(f\"{data.min()=}\")\n",
    "print(f\"{data.sum()=}\")\n",
    "print(f\"{data.prod()=}\")\n",
    "print(f\"{data.mean()=}\")"
   ]
  },
  {
   "cell_type": "markdown",
   "id": "68c472de-59fe-4f85-921d-36d89d1ee67a",
   "metadata": {},
   "source": [
    "![](numpy.assets/numpy-matrix-aggregation-1.png)\n",
    "\n",
    "而且不仅可以对矩阵中的所有值进行聚合，还能对行或列进行单独的聚合操作，使用 `axis` 参数进行指定："
   ]
  },
  {
   "cell_type": "code",
   "execution_count": null,
   "id": "d64a781e-953c-4a78-89be-01fbe6e10db5",
   "metadata": {},
   "outputs": [],
   "source": [
    "print(f\"{data.max(axis=0)=}\")\n",
    "print(f\"{data.max(axis=1)=}\")\n",
    "print(f\"{data.sum(axis=0)=}\")\n",
    "print(f\"{data.prod(axis=1)=}\")\n",
    "print(f\"{data.mean(axis=1)=}\")"
   ]
  },
  {
   "cell_type": "markdown",
   "id": "48fa4003-3e68-4017-a9f3-9602a1f207b6",
   "metadata": {},
   "source": [
    "![](numpy.assets/numpy-matrix-aggregation-4.png)"
   ]
  },
  {
   "cell_type": "markdown",
   "id": "5d5203b8-67d5-472c-a87b-b7f62c5f738d",
   "metadata": {},
   "source": [
    "## 置换和变形\n",
    "\n",
    "当处理矩阵时一个共用功能就是矩阵的变换。比如当需要计算两个矩阵的点积的时候可能需要对齐矩阵相邻的维度（使矩阵能够进行点积运算）。NumPy 的数组有一个很方便的属性 `T` 可以获取矩阵的转置："
   ]
  },
  {
   "cell_type": "code",
   "execution_count": null,
   "id": "e9baf5be-2caa-488e-8701-c89f7da04a49",
   "metadata": {},
   "outputs": [],
   "source": [
    "data = np.arange(1, 7).reshape(3, -1)\n",
    "print(data.T)"
   ]
  },
  {
   "cell_type": "markdown",
   "id": "f2aa7fb9-b5f5-4a1e-ac8f-c1f41646d5b2",
   "metadata": {},
   "source": [
    "![](numpy.assets/numpy-transpose.png)\n",
    "\n",
    "在更高级的场合，你可能发现需要变换矩阵的维度。这在机器学习中时经常常见的，比如当一个特定的模型需要一个一个特定维度的矩阵，而你的数据集的输入数据维度不一样的时候。NumPy 的 reshape() 函数就变得有用了。你只需指定你需要的新的矩阵的维度即可。你还可以通过将维度指定为 -1，NumPy 可以依据矩阵推断出正确的维度："
   ]
  },
  {
   "cell_type": "code",
   "execution_count": null,
   "id": "ac794d98-bec0-457e-aebd-58681310b55c",
   "metadata": {},
   "outputs": [],
   "source": [
    "display(data.reshape(2, 3))\n",
    "display(data.reshape(3, 2))"
   ]
  },
  {
   "cell_type": "markdown",
   "id": "76da6a15-a001-4ef9-b33f-62c080967cdf",
   "metadata": {},
   "source": [
    "![](numpy.assets/numpy-reshape.png)"
   ]
  },
  {
   "cell_type": "markdown",
   "id": "3ad29d0f-5d9e-4384-9cce-16fd43e15bc1",
   "metadata": {},
   "source": [
    "## 更高维度\n",
    "\n",
    "在更高的维度，前面提及的，NumPy 都可以做到。其中一个主要原因就是被称为 `ndarray(N-Dimensional Array)`的数据结构。"
   ]
  },
  {
   "cell_type": "code",
   "execution_count": null,
   "id": "7e0f886e-23e2-4ce8-b2ae-fc82a50cf2af",
   "metadata": {},
   "outputs": [],
   "source": [
    "data = np.array([\n",
    "    [[1, 2], [3, 4]],\n",
    "    [[5, 6], [7, 8]]\n",
    "])\n",
    "print(data)"
   ]
  },
  {
   "cell_type": "markdown",
   "id": "64028550-7ab2-4763-a339-271729201cf9",
   "metadata": {},
   "source": [
    "![](numpy.assets/numpy-3d-array.png)\n",
    "\n",
    "在大部分场合，处理一个新的维度只需要在 NumPy 的函数上参数上增加一个维度："
   ]
  },
  {
   "cell_type": "code",
   "execution_count": null,
   "id": "77fbfdc3-8eb6-47e9-a22a-13d01fa4303d",
   "metadata": {
    "tags": []
   },
   "outputs": [],
   "source": [
    "display(np.ones((4, 3, 2)))\n",
    "display(np.zeros((4, 3, 2)))\n",
    "display(np.random.random((4, 3, 2)))"
   ]
  },
  {
   "cell_type": "markdown",
   "id": "89eb87ae-6b00-40f9-8d5f-5a3c5f1b42e3",
   "metadata": {},
   "source": [
    "![](numpy.assets/numpy-3d-array-creation.png)\n",
    "\n",
    "注意：需要记住的是，当你打印一个3维的 NumPy 数组时，文本的输出和这里展示的不一样。NumPy 对多维数组的打印顺序是最后一个轴是最快打印的，而第一个是最后的。"
   ]
  },
  {
   "cell_type": "markdown",
   "id": "d9458523-6cb9-4969-a62d-88b01f897a28",
   "metadata": {},
   "source": [
    "## 实际使用\n",
    "\n",
    "下面是一些 NumPy 将会帮助你的一些例子。\n",
    "\n",
    "### 公式\n",
    "\n",
    "实现在矩阵和向量上的数学公式是NumPy的一个关键用处，这也是为什么 NumPy 是python 科学计算领域的宠儿。例如， 均方误差公式是解决回归问题的有监督机器学习模型的一个关键。\n",
    "\n",
    "![](numpy.assets/mean-square-error-formula.png)\n",
    "\n",
    "用 NumPy 来实现是一件轻而易举的事："
   ]
  },
  {
   "cell_type": "code",
   "execution_count": null,
   "id": "cbd46700-4955-47ca-83b8-18dc5e24ea7f",
   "metadata": {},
   "outputs": [],
   "source": [
    "predictions = np.ones((2,2,2))\n",
    "labels = np.eye(2,2,2)\n",
    "error = np.sum(np.square(predictions - labels))\n",
    "print(error)"
   ]
  },
  {
   "cell_type": "markdown",
   "id": "ab501074-b574-41ef-9b42-579ead4aa79c",
   "metadata": {},
   "source": [
    "![](numpy.assets/numpy-mean-square-error-formula.png)\n",
    "\n",
    "优雅之处在于 numpy 不关心 `predictions` 和 `labels` 的容量是 `1` 还是几百个值（只要它们有同样的容量）。我们可以通过如下四个步骤来对这行代码进行一个序列走读：\n",
    "\n",
    "![](numpy.assets/numpy-mse-1.png)\n",
    "\n",
    "`predictions` 和 `labels` 向量都有3个值，也就是说 `n = 3`, 计算完减法后，我们得到如下的公式：\n",
    "\n",
    "![](numpy.assets/numpy-mse-2.png)\n",
    "\n",
    "然后对这个向量求平方操作：\n",
    "\n",
    "![](numpy.assets/numpy-mse-3.png)\n",
    "\n",
    "现在，我们对三个数进行求和：\n",
    "\n",
    "![](numpy.assets/numpy-mse-4.png)\n",
    "\n",
    "error 中的值就是模型预测的质量\n",
    "\n",
    "### 数据展示\n",
    "\n",
    "考虑到所有可能需要处理和构建模型的数据类型（电子表格，图像，音频等）。很多是很适合用一个n维数组进行表示的。\n",
    "\n",
    "**电子表格**\n",
    "\n",
    "电子表格是一个二维矩阵，每一个 sheet 页都有它的变量。python 中最流行的一个框架是 pandas dataframe ，这也是一个使用 NumPy 构建的一个软件包。\n",
    "\n",
    "![](numpy.assets/0-excel-to-pandas.png)\n",
    "\n",
    "**音频和时间序列数据**\n",
    "\n",
    "一个音频文件是一个以为数组的样本。 每个样本都是一个数字，代表一小块音频信号。 cd质量的音频每秒可能有44,100个样本，每个样本是-32767到32768之间的整数。 这意味着如果您有一个10秒的cd质量的WAVE文件，您可以将它装入一个长度为10 * 44,100 = 441,000的NumPy数组中。 如果想提取音频的第一秒，只需将该文件加载到一个NumPy数组 `audio` 中，并使用 `audio[:44100]`即可获取到。\n",
    "\n",
    "![](numpy.assets/numpy-audio.png)\n",
    "\n",
    "时间序列的数据也是一样（比如， 随时间变化的股票价格 ）\n",
    "\n",
    "**图像**\n",
    "\n",
    "一个图像就是一个像素矩阵，其维度就是高度 x 宽度。\n",
    "如果图像是黑白照片，也就是一个灰度图，每个像素可以用一个数字代表（通常是在0（黑）和255（白）之间）。如果 想要裁切图像左上角10 x 10像素的部分，只需通过 NumPy 的 `image[:10, :10]` 函数即可获取\n",
    "\n",
    "下面是一个图片文件的切片：\n",
    "![](numpy.assets/numpy-grayscale-image.png)\n",
    "\n",
    "如果是一个彩色图像，那么每个像素可以用3个数字表示——一个代表红色，一个代表绿色，一个代表蓝色。这种情况下，我们需要一个3维素组（因为每个单元仅可以包含一个数字）。因此，一个彩色图像可以被一个 ndarray 维度表示：（高度 * 宽度 * 3）：\n",
    "\n",
    "![](numpy.assets/numpy-color-image.png)\n",
    "\n",
    "**语言**\n",
    "\n",
    "如果我们处理的是文本的话，情况可能有点不同。要用数值表示一段文本需要构建一个词汇表（模型需要知道的所有的唯一词）以及一个词嵌入（embedding）过程。 让我们看看用数字表示这个谚语的步骤：” Have the bards who preceded me left any theme unsung?”\n",
    "\n",
    "模型需要先训练大量文本才能用数字表示这位诗人的诗句。我们可以让模型处理一个小数据集，并使用这个数据集来构建一个词汇表（71,290个单词）：\n",
    "\n",
    "![](numpy.assets/numpy-nlp-vocabulary.png)\n",
    "\n",
    "这个句子可以被划分为一系列词（token）（基于通用规则）：\n",
    "\n",
    "![](numpy.assets/numpy-nlp-tokenization.png)\n",
    "\n",
    "然后我们用词汇表中单词的ID来替换它：\n",
    "\n",
    "![](numpy.assets/numpy-nlp-ids.png)\n",
    "\n",
    "对于模型来说，这些ID并没有提供更多的信息。因此，在将这些词喂入模型之前，需要先将她们替换为对应的词嵌入向量（本例中使用50维度的 word2vec 词嵌入）\n",
    "\n",
    "![](numpy.assets/numpy-nlp-embeddings.png)\n",
    "\n",
    "可以看出这个 NumPy 数组有 [词嵌入维度 * 序列长度] 的维数。在实践中可能有另外的情况，在此我用这种方式来表示。出于性能因素的考虑，深度学习模型倾向于保存批处理数据的第一个维度（因为如果并行地训练多个实例，模型可以训练得更快）。`reshape()` 在这里就发挥了用武之地。比如像 BERT 这样的模型，他的输入希望是这种[批处理大小, 序列长度, 词嵌入维度]([ batch_size, sequence_length, embedding_size ]) 形状的。\n",
    "\n",
    "![](numpy.assets/numpy-nlp-bert-shape.png)\n",
    "\n",
    "\n",
    "现在，这些就是一个模型可以处理并且使用的一个数值型卷积向量。我在上图中的其他行留了空白，但是他们实际是被填充用于训练（或者是预测）。"
   ]
  }
 ],
 "metadata": {
  "kernelspec": {
   "display_name": "learn",
   "language": "python",
   "name": "learn"
  },
  "language_info": {
   "codemirror_mode": {
    "name": "ipython",
    "version": 3
   },
   "file_extension": ".py",
   "mimetype": "text/x-python",
   "name": "python",
   "nbconvert_exporter": "python",
   "pygments_lexer": "ipython3",
   "version": "3.11.2"
  }
 },
 "nbformat": 4,
 "nbformat_minor": 5
}
