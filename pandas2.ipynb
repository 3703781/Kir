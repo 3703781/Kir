{
 "cells": [
  {
   "cell_type": "markdown",
   "id": "ef0a0a75-2017-46c0-94eb-31740fa3a35d",
   "metadata": {},
   "source": [
    "# Pandas Illustrated: The Definitive Visual Guide to Pandas\n",
    "\n",
    "https://betterprogramming.pub/pandas-illustrated-the-definitive-visual-guide-to-pandas-c31fa921a43\n",
    "\n",
    "[3.5万字图解 Pandas](https://blog.csdn.net/cainiao_python/article/details/130143504)\n",
    "\n",
    "[10 minutes to pandas](https://pandas.pydata.org/pandas-docs/stable/user_guide/10min.html)\n",
    "\n",
    "![img](pandas.assets/1MDyxk2ivjo9sD2_kd_B1TQ.png)\n",
    "\n",
    "[Pandas](https://pandas.pydata.org/) is an industry standard for analyzing data in Python. "
   ]
  },
  {
   "cell_type": "markdown",
   "id": "6f5a3bc3-76a2-43a6-a66c-15dfe12f0725",
   "metadata": {},
   "source": [
    "1. Motivation\n",
    "2. Series and Index\n",
    "3. DataFrames\n",
    "4. MultiIndex"
   ]
  },
  {
   "cell_type": "code",
   "execution_count": null,
   "id": "b6ff5fa0-6e9f-434c-946f-4322db2db4dc",
   "metadata": {},
   "outputs": [],
   "source": [
    "import pandas as pd"
   ]
  },
  {
   "cell_type": "markdown",
   "id": "d217a906-6989-4a72-a36b-165cb9e38574",
   "metadata": {},
   "source": [
    "# Part 1. Motivation and Showcase\n",
    "\n",
    "![img](pandas.assets/1lZH0zLkDU01MbmLoq2B3SQ.png)\n",
    "\n",
    "Now, here’re a couple of examples of what Pandas can do for you that NumPy cannot (or requires significant effort to accomplish).\n",
    "\n",
    "**1. Sorting**\n",
    "![img](pandas.assets/1DKVpqZ00lqWTIducEHbdNQ.png)\n",
    "\n",
    "**2. Sorting by several columns**\n",
    "![img](pandas.assets/1dlpYc3VwGuv-R0iTu4mPzw.png)\n",
    "\n",
    "**3. Adding a column**\n",
    "![img](pandas.assets/1sagPinoTw4nfgiKK97OL1A.png)\n",
    "\n",
    "**4. Fast element search**\n",
    "![img](pandas.assets/16bWbS6mCvT-uiJsLR5e6ag.png)\n",
    "\n",
    "**5. Joins by column**\n",
    "![img](pandas.assets/1EbVEDx9maySLpDsdND7b5A.png)\n",
    "\n",
    "**6. Grouping by column**\n",
    "![img](pandas.assets/1VeV4Jw2kfF2Nt89ftmxi2A.png)\n",
    "\n",
    "**7. Pivot tables**\n",
    "![img](pandas.assets/120nnKdjRK3wEzjOvvAjusA.png)\n",
    "\n",
    "At this point you might wonder why would anyone use NumPy if Pandas is so good. NumPy is not better or worse, it just has different use cases:\n",
    "\n",
    "- Random numbers (e.g., for testing)\n",
    "- Linear algebra (e.g., for neural networks)\n",
    "- Images and stacks of images (e.g., for CNNs)\n",
    "- Differentiation, integration, trigonometry and other scientific staff.\n",
    "\n",
    "**Benchmarked** NumPy and Pandas 5–100 columns; 10³–10⁸ rows; integers and floats.\n",
    "1 row and 100 million rows:\n",
    "![img](pandas.assets/1xZD8Ky4Z2RM9Rax8Fdhfyg.png)\n",
    "\n",
    "\n",
    "![img](pandas.assets/1ouJSVxgRrPJKt-c68W_2Hw.png)"
   ]
  },
  {
   "cell_type": "markdown",
   "id": "09b80e0d-ae54-4d35-9e0d-389dcb28c9e4",
   "metadata": {},
   "source": [
    "# Part 2. Series and Index\n",
    "\n",
    "![img](pandas.assets/1nYheMZJlvGo0UvIfcSRUrQ.png)\n",
    "\n",
    "![img](pandas.assets/1zOZ6eZzgQ2gzidRLLo1f5A.png)"
   ]
  },
  {
   "cell_type": "code",
   "execution_count": null,
   "id": "7906e384-4a8e-44d6-8a62-5c6827a8dc0f",
   "metadata": {},
   "outputs": [],
   "source": [
    "s = pd.Series([0.6, 0.7, 2.2, 10.5], index=[\"Athens\", \"Oslo\", \"Paris\", \"Bankok\"])\n",
    "s"
   ]
  },
  {
   "cell_type": "markdown",
   "id": "2e52b302-2e21-47c2-9f3c-2b85794ab041",
   "metadata": {},
   "source": [
    "Every element can be addressed in two alternative ways\n",
    "![img](pandas.assets/1yFgpYI_tprMerCrOLRr6HQ.png)\n",
    "- by ‘label’ (=using the index)\n",
    "- by ‘position’ (=not using the index):"
   ]
  },
  {
   "cell_type": "code",
   "execution_count": null,
   "id": "7d6cb672-ba80-487f-bdb7-c3fa7bc4b59d",
   "metadata": {},
   "outputs": [],
   "source": [
    "display(s[1:3])\n",
    "display(s[\"Oslo\":\"Paris\"])"
   ]
  },
  {
   "cell_type": "markdown",
   "id": "2968f755-3965-4581-af42-b9f21ada5b9f",
   "metadata": {},
   "source": [
    "if the labels happen to be integers, `s[1:3]` becomes ambiguous. \n",
    "![img](pandas.assets/1FlCqe7nGuygynyg0MfrczQ.png)\n",
    "\n",
    "- by ‘label’ (=using the index=**iloc**)\n",
    "- by ‘position’ (=not using the index=**loc**):\n",
    "\n",
    "You can use a single or double colon with the familiar meaning of `start:stop:step`. As usual, missing start (end) means from the start (to the end) of the Series. The step argument allows to reference even rows with `s.iloc[::2]` and to get elements in reverse order with `s['Paris':'Oslo':-1]`"
   ]
  },
  {
   "cell_type": "code",
   "execution_count": null,
   "id": "8de7beb1-37cd-4e2a-94ef-3b8812c34886",
   "metadata": {},
   "outputs": [],
   "source": [
    "s.loc[::-1]"
   ]
  },
  {
   "cell_type": "markdown",
   "id": "a12b070c-2ee0-467b-b2ec-8ef259e61139",
   "metadata": {},
   "source": [
    "They also support boolean indexing\n",
    "\n",
    "![img](pandas.assets/1gPF81TsMk8gbTvysONfJeA.png)"
   ]
  },
  {
   "cell_type": "code",
   "execution_count": null,
   "id": "3a4c75fe-ad74-4023-a72d-230e97226547",
   "metadata": {
    "tags": []
   },
   "outputs": [],
   "source": [
    "# !pip install pandas-illustrated"
   ]
  },
  {
   "cell_type": "code",
   "execution_count": null,
   "id": "67caeec2-f4a8-4b89-8beb-5ec44f8b9052",
   "metadata": {},
   "outputs": [],
   "source": [
    "import pdi\n",
    "pdi.patch_series_repr(footer=False)"
   ]
  },
  {
   "cell_type": "code",
   "execution_count": null,
   "id": "d858a119-b314-44a5-8b43-a0298333ee31",
   "metadata": {},
   "outputs": [],
   "source": [
    "s = pd.Series([\"cat\", \"dog\", \"panda\", \"cat\", \"dragon\"], index=list(\"abcde\"), name=\"animal\")\n",
    "a = (s == \"cat\") | (s == \"dog\")\n",
    "b = s.isin([\"cat\", \"dog\"])\n",
    "\n",
    "pdi.sidebyside(a, b)"
   ]
  },
  {
   "cell_type": "markdown",
   "id": "df9f72e7-4f21-4ca1-8d13-d8a9a6825bd1",
   "metadata": {},
   "source": [
    "**fancy indexing** (indexing with an array of integers)\n",
    " \n",
    "![img](pandas.assets/1aPEgTD8YUKDphJ-qC9e2gw.png)"
   ]
  },
  {
   "cell_type": "markdown",
   "id": "6b00c09e-e7f6-43f1-9251-7d3ee186d8b2",
   "metadata": {},
   "source": [
    "## Index"
   ]
  },
  {
   "cell_type": "markdown",
   "id": "23469a9f-af34-47eb-a678-25522447bb71",
   "metadata": {},
   "source": [
    "当创建一个没有索引的序列(或DataFrame)时，Index会初始化为一个RangeIndex对象"
   ]
  },
  {
   "cell_type": "code",
   "execution_count": null,
   "id": "76256545-1cec-4cd4-bdb3-134fcc43b838",
   "metadata": {},
   "outputs": [],
   "source": [
    "import numpy as np\n",
    "\n",
    "s = pd.Series(np.zeros(10**6))\n",
    "display(s.index)\n",
    "display(s.index.memory_usage())"
   ]
  },
  {
   "cell_type": "code",
   "execution_count": null,
   "id": "2b5c83ae-08c2-4ea5-b960-b3c46aff45e1",
   "metadata": {},
   "outputs": [],
   "source": [
    "s1 = s.drop(1)\n",
    "display(s1.index)\n",
    "display(s1.index.memory_usage())"
   ]
  },
  {
   "cell_type": "code",
   "execution_count": null,
   "id": "dde5af1f-840b-4498-8eae-0f5c0c9a392f",
   "metadata": {},
   "outputs": [],
   "source": [
    "s2 = s1.reset_index(drop=True)\n",
    "display(s.index)"
   ]
  },
  {
   "cell_type": "markdown",
   "id": "49cc2378-d9cb-4ede-8c55-750902ef927d",
   "metadata": {},
   "source": [
    "## Finding element by value\n",
    "\n",
    "![img](pandas.assets/1Pv9iM9jJUuPqT5HGFI3WIw.png)"
   ]
  },
  {
   "cell_type": "code",
   "execution_count": null,
   "id": "e11240bd-ec62-454f-adf3-058a351e468d",
   "metadata": {},
   "outputs": [],
   "source": [
    "s = pd.Series([4, 2, 4, 6], index=[\"cat\", \"penguin\", \"dog\", \"butterfly\"])\n",
    "np.where(s==4)[0]\n",
    "s.index[np.where(s==4)[0]]"
   ]
  },
  {
   "cell_type": "markdown",
   "id": "2486d0fd-aedf-4bfd-8cca-140c11634b75",
   "metadata": {},
   "source": [
    "## Missing values\n",
    "\n",
    "![img](pandas.assets/1w2sNUkxiK_F4Y-bBCcpp_g.png)"
   ]
  },
  {
   "cell_type": "code",
   "execution_count": null,
   "id": "dc78ddb3-e643-4c08-9e60-8c1be0436019",
   "metadata": {},
   "outputs": [],
   "source": [
    "s = pd.Series([1., None, 3.])\n",
    "pdi.sidebyside(s, s.isna())\n",
    "\n",
    "s.isna().sum() # if there are any nan"
   ]
  },
  {
   "cell_type": "markdown",
   "id": "93877b69-04a3-4d57-bc5f-7ff27f1cdeb8",
   "metadata": {},
   "source": [
    "![img](pandas.assets/1WeVr1U1XGt157JPn3FF0fQ.png)"
   ]
  },
  {
   "cell_type": "code",
   "execution_count": null,
   "id": "80d5a8a9-22d8-433d-8ba6-5bbbb32fa2e1",
   "metadata": {
    "tags": []
   },
   "outputs": [],
   "source": [
    "pdi.sidebyside(s, s.fillna(0), s.interpolate(), s.dropna())"
   ]
  },
  {
   "cell_type": "markdown",
   "id": "3a9da392-989e-4b29-a746-2c5a13e7a9be",
   "metadata": {},
   "source": [
    "On the other hand, you can keep using them. Most Pandas functions happily ignore the missing values:\n",
    "![img](pandas.assets/11EzfnD-xr-0OknFkBOYxGQ.png)"
   ]
  },
  {
   "cell_type": "markdown",
   "id": "58ec8469-8521-4841-802a-48e3f2197ed9",
   "metadata": {},
   "source": [
    "Arithmetic operations are aligned against the `index`:\n",
    "\n",
    "![img](pandas.assets/1Bln2ayx6iO3sGYzfd1N18Q.png)"
   ]
  },
  {
   "cell_type": "code",
   "execution_count": null,
   "id": "c4d05011-0596-4476-864f-26a1f6b58b8e",
   "metadata": {},
   "outputs": [],
   "source": [
    "s1 = pd.Series([1,2,3], index=list(\"abc\"))\n",
    "s2 = pd.Series([1,2,3], index=list(\"bcd\"))\n",
    "pdi.sidebyside(s1, s2, s1+s2)"
   ]
  },
  {
   "cell_type": "markdown",
   "id": "697f6e31-a4d8-4f15-899f-1cd8be6dc363",
   "metadata": {},
   "source": [
    "## Comparisons"
   ]
  },
  {
   "cell_type": "code",
   "execution_count": null,
   "id": "b7b61229-bfcc-4cad-a4bc-5fd5dac4b4cf",
   "metadata": {},
   "outputs": [],
   "source": [
    "a = pd.Series([1., None, 3.]) == pd.Series([1., None, 3.])\n",
    "b = pd.Series([1, None, 3], dtype='Int64') == pd.Series([1, None, 3], dtype='Int64')\n",
    "pdi.sidebyside(a, b)\n",
    "print(np.all(a), np.all(b))"
   ]
  },
  {
   "cell_type": "markdown",
   "id": "31aaff68-b0b2-469d-b31e-55e7cdcbad56",
   "metadata": {},
   "source": [
    "To be compared properly"
   ]
  },
  {
   "cell_type": "code",
   "execution_count": null,
   "id": "6b613658-21aa-4e21-97c0-49161cbc8f6c",
   "metadata": {},
   "outputs": [],
   "source": [
    "s1 = pd.Series([1., None, 3.])\n",
    "s2 = pd.Series([1., None, 3.])\n",
    "\n",
    "np.all(s1.fillna(np.inf) == s2.fillna(np.inf))"
   ]
  },
  {
   "cell_type": "markdown",
   "id": "f928453a-2919-4f3d-b407-0e7e4f73dbe8",
   "metadata": {},
   "source": [
    "Or, better yet, use a standard NumPy or Pandas comparison function:"
   ]
  },
  {
   "cell_type": "code",
   "execution_count": null,
   "id": "cd82a786-ab83-4271-a56a-e809e7540db7",
   "metadata": {},
   "outputs": [],
   "source": [
    "np.array_equal(s1.values, s2.values, equal_nan=True)"
   ]
  },
  {
   "cell_type": "markdown",
   "id": "00aa6cad-33cf-4810-b206-f393691eea92",
   "metadata": {},
   "source": [
    "## Appends, inserts, deletions\n",
    "\n",
    "![img](pandas.assets/1JHVUVZGTwMVfEn2_i-JOsg.png)"
   ]
  },
  {
   "cell_type": "code",
   "execution_count": null,
   "id": "025e885e-88cd-4dd3-a7fd-5521ba53119a",
   "metadata": {},
   "outputs": [],
   "source": [
    "s = pd.Series([\"cat\", \"dog\", \"horse\"])\n",
    "s1 = s.copy()\n",
    "s1[1.5] = \"panda\"\n",
    "s2 = s1.sort_index()\n",
    "s3 = s2.reset_index(drop=True)\n",
    "s4 = s3[s3 != \"panda\"]\n",
    "pdi.sidebyside(s, s1, s2, s3, s4)"
   ]
  },
  {
   "cell_type": "markdown",
   "id": "f0423913-7e8d-45c6-8ba9-30dd50a4630d",
   "metadata": {},
   "source": [
    "## Statistics"
   ]
  },
  {
   "cell_type": "markdown",
   "id": "54b86931-3ff2-435d-aa31-54f81f5b7bf1",
   "metadata": {},
   "source": [
    "![img](pandas.assets/1nEHVgF88PYNnhK1q0YpY8A.png)"
   ]
  },
  {
   "cell_type": "code",
   "execution_count": null,
   "id": "2b919cae-3c97-4502-884e-d415694891f8",
   "metadata": {},
   "outputs": [],
   "source": [
    "s = pd.Series([3, 7, 5], index=list(\"abc\")) \n",
    "print(s.max(), s.mean(), s.median())\n",
    "s.rolling(2).mean()"
   ]
  },
  {
   "cell_type": "markdown",
   "id": "878b0347-c1f1-4aaa-9c21-9edae287ddec",
   "metadata": {},
   "source": [
    "\n",
    "- `std`, sample standard deviation;\n",
    "- `var`, unbiased variance;\n",
    "- `sem`, unbiased standard error of the mean;\n",
    "- `quantile`, sample quantile (`s.quantile(0.5) ≈ s.median()`);\n",
    "- `mode`, the value(s) that appears most often;\n",
    "- `nlargest` and `nsmallest`, by default, in order of appearance;\n",
    "- `diff`, first discrete difference;\n",
    "- `cumsum` and `cumprod`, cumulative sum, and product;\n",
    "- `cummin` and `cummax`, cumulative minimum and maximum.\n",
    "- `pct_change`, percent change between the current and previous element;\n",
    "- `skew`, unbiased skewness (third moment);\n",
    "- `kurt` or `kurtosis`, unbiased kurtosis (fourth moment);\n",
    "- `cov,` `corr` and `autocorr`, covariance, correlation, and autocorrelation;\n",
    "- [rolling](https://pandas.pydata.org/pandas-docs/stable/reference/window.html#rolling-window-functions), [weighted](https://pandas.pydata.org/pandas-docs/stable/reference/window.html#weighted-window-functions), and [exponentially weighted](https://pandas.pydata.org/pandas-docs/stable/reference/window.html#exponentially-weighted-window-functions) windows.\n",
    "\n",
    "Since every element in a series can be accessed by either a label or a positional index, there’s a sister function for `argmin` (`argmax`) called `idxmin` (`idxmax`), which is shown in the image:\n",
    "\n",
    "![img](pandas.assets/1qpCkFcrRKj8oN9qdmLqaAw.png)"
   ]
  },
  {
   "cell_type": "code",
   "execution_count": null,
   "id": "fdc72ce7-f30c-40f1-8465-460ff917d304",
   "metadata": {},
   "outputs": [],
   "source": [
    "print(s.idxmax(), s.argmax(), s.max())"
   ]
  },
  {
   "cell_type": "markdown",
   "id": "de19b97a-4bcf-4593-82ed-6a61b3f995f0",
   "metadata": {},
   "source": [
    "## Duplicate data\n",
    "\n",
    "![img](pandas.assets/1jlnjYL6OqoKzaNByBdkWnQ.png)"
   ]
  },
  {
   "cell_type": "markdown",
   "id": "2fc51fbf-27cb-40aa-8e7b-438730f9dc21",
   "metadata": {},
   "source": [
    "Missing values are treated as ordinary values, which may sometimes lead to surprising results.\n",
    "There also is a family of monotonic functions with self-describing names:\n",
    "\n",
    "- `s.is_monotonic_increasing`,\n",
    "- `s.is_monotonic_decreasing`,\n",
    "- `s._strict_monotonic_increasing`,\n",
    "- `s._string_monotonic_decreasing`, and, quite unexpectedly,\n",
    "- `s.is_monotonic` — this is a synonym for `s.is_monotonic_increasing` and returns `False` for monotonically decreasing series!"
   ]
  },
  {
   "cell_type": "code",
   "execution_count": null,
   "id": "212057cf-ea94-4cd4-8f9f-7db42c9a443a",
   "metadata": {},
   "outputs": [],
   "source": [
    "s1 = pd.Series(np.arange(5), index=list(\"abcde\")) \n",
    "s2 = pd.Series([3, 7, 5], index=list(\"abc\"))\n",
    "\n",
    "print(s1.is_monotonic_increasing,\n",
    "s1.is_monotonic_decreasing,\n",
    "s2.is_monotonic_increasing)"
   ]
  },
  {
   "cell_type": "markdown",
   "id": "e15fbce9-6c4b-4f1f-bcd9-eaff5c4a70ed",
   "metadata": {},
   "source": [
    "## Strings and regular expressions\n",
    "\n",
    "![img](pandas.assets/1IlVqCy1NEWM7h5BdWsbBcA.png)\n",
    "When such an operation returns multiple values, you have several options for how to use them:\n",
    "![img](pandas.assets/1t-Z8iW3HLbWlzkOkcy2NRg.png)"
   ]
  },
  {
   "cell_type": "code",
   "execution_count": null,
   "id": "993ca928-9bfd-4849-aa9f-2dc113da8fd8",
   "metadata": {},
   "outputs": [],
   "source": [
    "s = pd.Series([\"e2-e4\", \"O-O-O\", \"d8Q\"])\n",
    "s.str.split(\"-\", expand=True)"
   ]
  },
  {
   "cell_type": "markdown",
   "id": "0229208b-888d-4176-90d5-ea96ee1a611d",
   "metadata": {},
   "source": [
    "If you know regular expressions, Pandas has vectorized versions of the common operations with them, too:\n",
    "![img](pandas.assets/1w1EXCEbBI9rzh3HJOZpzmw.png)"
   ]
  },
  {
   "cell_type": "markdown",
   "id": "58d14e00-94c1-40e0-9489-70f500299e03",
   "metadata": {},
   "source": [
    "## Group by\n",
    "\n",
    "![img](pandas.assets/1P6gMsfRIAUFmdZogIKIExA.png)\n",
    "\n",
    "All operations exclude NaNs\n",
    "\n",
    "![img](pandas.assets/1EVkkZyRXzZCCmQ-3jvM8dQ.png)\n",
    "\n",
    "In addition to those aggregate functions, you can access particular elements based on their position or relative value within a group. Here’s what that looks like:\n",
    "\n",
    "![img](pandas.assets/1mx1U5kHBwwBDeiCF-7U8zQ.png)\n",
    "You can also calculate several functions in one call with `g.agg(['min', 'max'])` or display a whole bunch of stats functions at once with `g.describe()`."
   ]
  },
  {
   "cell_type": "code",
   "execution_count": null,
   "id": "3d038b23-40cc-465f-b881-b302c62b167c",
   "metadata": {},
   "outputs": [],
   "source": [
    "s = pd.Series([1, 2, 10, 11, 15, 27])\n",
    "g = s.groupby(s // 10)\n",
    "\n",
    "pdi.sidebyside(g.agg([\"min\", \"mean\"]), g.describe())"
   ]
  },
  {
   "cell_type": "markdown",
   "id": "48534735-ce10-40d9-8885-f2ebfc5e8a79",
   "metadata": {},
   "source": [
    "![img](pandas.assets/1gnIPGT6TRq7R4DT6lhpGdg.png)"
   ]
  },
  {
   "cell_type": "markdown",
   "id": "15cf37f2-2611-4d0d-87c1-09f83c42839f",
   "metadata": {},
   "source": [
    "# Part 3. DataFrames\n",
    "\n",
    "![img](pandas.assets/194hoswsoooSH_wVSEU0ilw.png)"
   ]
  },
  {
   "cell_type": "markdown",
   "id": "ff61b4f1-9eee-43a1-b81e-94f26eb8a3cf",
   "metadata": {},
   "source": [
    "## Reading and writing CSV files\n",
    "\n",
    "![img](pandas.assets/1_ZYiMs0TJJmEmqCscMIwbA.png)\n",
    "\n",
    "Since CSV doesn’t have a strict specification, sometimes it takes a bit of trial and error to read it correctly. What is cool about `read_csv` is that it automatically detects a lot of things, including:\n",
    "\n",
    "- column names and types,\n",
    "- representation of booleans,\n",
    "- representation of missing values, etc.\n",
    "\n",
    "![img](pandas.assets/1WvWU4gSz1c5VA5bQdYM4_Q.png)\n",
    "![img](pandas.assets/1TwXX2K1Oj6u5lY4h_aP_vQ.png)\n",
    "\n",
    "It is a good idea to set one or several columns as an index. The following image shows this process:\n",
    "\n",
    "![img](pandas.assets/18y5tQge0RAohOcmzgIRHcQ.png)\n",
    "\n",
    "`Index` has many uses in Pandas:\n",
    "\n",
    "- it makes lookups by indexed column(s) faster;\n",
    "- arithmetic operations, stacking, joining are aligned by index; etc."
   ]
  },
  {
   "cell_type": "code",
   "execution_count": null,
   "id": "5ba36d2c-815b-4f39-bd58-fe0694256a25",
   "metadata": {},
   "outputs": [],
   "source": [
    "df1 = pd.read_csv(\"data/courses.csv\")\n",
    "df2 = pd.read_csv(\"data/courses.csv\", index_col=\"程\")\n",
    "display(df1.iloc[-4:])\n",
    "display(df2.iloc[:4])"
   ]
  },
  {
   "cell_type": "markdown",
   "id": "a42bb58d-8451-4fa0-ab21-27e2347ebb7d",
   "metadata": {},
   "source": [
    "## Building a DataFrame\n",
    "\n",
    "![img](pandas.assets/1uY9uygYVTsbOeZMkyvLMKA.png)\n",
    "\n",
    "using the `columns` argument and  the `index` argument\n",
    "\n",
    "![img](pandas.assets/1ecpiKwydlLWNJiiDwDx45A.png)\n",
    "\n",
    "The next option is to construct a DataFrame from a dict of NumPy vectors or a 2D NumPy \n",
    "\n",
    "![img](pandas.assets/1fBawUWTps5MmwwJtKgbGdw.png)"
   ]
  },
  {
   "cell_type": "code",
   "execution_count": null,
   "id": "f7a13106-3216-40ee-8bcb-dc066eb3d179",
   "metadata": {},
   "outputs": [],
   "source": [
    "d = np.array([[698660, 480.8],\n",
    "             [1911191, 414.8],\n",
    "             [14043239, 2194.1]])\n",
    "\n",
    "df = pd.DataFrame(d, columns=[\"population\", \"area\"], \n",
    "                  index=[\"Oslo\", \"Vienna\", \"Tokyo\"])\n",
    "df.index.name= \"city_name\"\n",
    "df"
   ]
  },
  {
   "cell_type": "markdown",
   "id": "848132b3-b53f-46f5-be80-d4a8d2634fe5",
   "metadata": {},
   "source": [
    "## Basic operations with DataFrames\n",
    "\n",
    "![img](pandas.assets/10PxEM1tcVdK-Cc71CgHWKA.png)"
   ]
  },
  {
   "cell_type": "code",
   "execution_count": null,
   "id": "aec0e9c3-1122-4b4f-9afe-6098349ea937",
   "metadata": {},
   "outputs": [],
   "source": [
    "df[\"density\"] = df[\"population\"] / df[\"area\"]\n",
    "df"
   ]
  },
  {
   "cell_type": "markdown",
   "id": "7ed1abf0-f86b-4a30-a0f5-d30876c78e5f",
   "metadata": {},
   "source": [
    "## Indexing DataFrames\n",
    "\n",
    "![img](pandas.assets/1i2l47j_-P6qRAXEu6ClVAg.png)\n",
    "\n",
    "dataframes, just like series, have two alternative indexing modes: `loc` for indexing by labels and `iloc` for indexing by positional index.\n",
    "\n",
    "![img](pandas.assets/1XHIJAm2Zej0W38bGRgwbTw.png)"
   ]
  },
  {
   "cell_type": "code",
   "execution_count": null,
   "id": "664351b8-8d5d-49f6-a414-e02d9c5b5303",
   "metadata": {},
   "outputs": [],
   "source": [
    "df = pd.DataFrame(np.arange(1, 13).reshape(3, -1), \n",
    "                 index=list(\"abc\"), columns=list(\"ABCD\"))\n",
    "display(df)\n",
    "df.loc[:, \"B\"] = 10\n",
    "display(df)"
   ]
  },
  {
   "cell_type": "code",
   "execution_count": null,
   "id": "9fa8baea-531c-4ea6-a279-7b624e7fb203",
   "metadata": {},
   "outputs": [],
   "source": [
    "df.loc[[\"b\", \"c\"], \"A\":\"C\"] = 99\n",
    "df"
   ]
  },
  {
   "cell_type": "markdown",
   "id": "bf0f1acd-9cd8-43dd-b315-1f8d85f6b33c",
   "metadata": {},
   "source": [
    "![img](pandas.assets/14slwo8GXp5wB6HyFoXbLvg.png)"
   ]
  },
  {
   "cell_type": "code",
   "execution_count": null,
   "id": "e9bc29f1-fa8a-48e8-b90c-761a2a6e093f",
   "metadata": {},
   "outputs": [],
   "source": [
    "d = np.array([[\"Oslo\", 698660, 480.8],\n",
    "             [\"Vienna\", 1911191, 414.8],\n",
    "             [\"Tokyo\", 14043239, 2194.1]])\n",
    "\n",
    "df = pd.DataFrame(d, columns=[\"name\", \"population\", \"area\"])\n",
    "\n",
    "df.loc[df[\"population\"].astype(int) > 10 ** 6, \"name\"]"
   ]
  },
  {
   "cell_type": "markdown",
   "id": "ed4c5fe1-6ce0-4840-8e10-beee0eec146e",
   "metadata": {},
   "source": [
    "When using several conditions, they must be parenthesized, as you can see below:\n",
    "\n",
    "![img](pandas.assets/1wDUggm9J1vpZwS4rLlmlYg.png)\n",
    "\n",
    "When you expect a single value to be returned, you need special care.\n",
    "\n",
    "![img](pandas.assets/1yGIyTCHcJ2AjeFXKnn4F-Q.png)"
   ]
  },
  {
   "cell_type": "markdown",
   "id": "82cf4a23-de2d-4511-95b0-1c872577ea37",
   "metadata": {},
   "source": [
    "## DataFrame arithmetic\n",
    "\n",
    "All arithmetic operations are aligned against the row and column labels:\n",
    "![img](pandas.assets/1M3HuRKFHEi8Ao-NxcOBmHA.png)\n",
    "\n",
    "In mixed operations between DataFrames and Series, the Series (God knows why) behaves (and broadcasts) like a row-vector and is aligned accordingly:\n",
    "![img](pandas.assets/1SqbcZB8UygeM8XFuZE2p5g.png)\n",
    "\n",
    "Probably to keep in line with lists and 1D NumPy vectors (which are not aligned by labels and are expected to be sized as if the DataFrame was a simple 2D NumPy array):\n",
    "\n",
    "![img](pandas.assets/1a7VaVbk1R3z05jCgL4R-jQ.png)\n",
    "\n",
    "So, in the unlucky (and, by coincidence, the most usual!) case of dividing a dataframe by a column-vector series, you have to use methods instead of the operators, as you can see below:\n",
    "\n",
    "![img](pandas.assets/1TjSonUYkRaC7b6-BExLVIA.png)\n",
    "\n",
    "![img](pandas.assets/1EyEn4Hp0dSq3jRMGwisiXg.png)\n",
    "\n",
    "## Vertical stacking\n",
    "\n",
    "This is probably the simplest way to combine two or more dataframes into one: you take the rows from the first one and append the rows from the second one to the bottom. To make it work, those two dataframes need to have (roughly) the same columns. This is similar to `vstack` in NumPy, as you can see in the image:\n",
    "\n",
    "![img](pandas.assets/1U0MaT2LtC9ObBOrlLXyL0A.png)"
   ]
  },
  {
   "cell_type": "code",
   "execution_count": null,
   "id": "e10e4a93-bec8-4c7c-99f4-6564ec6a8912",
   "metadata": {},
   "outputs": [],
   "source": [
    "df1 = pd.read_csv(\"data/courses.csv\").iloc[:3]\n",
    "df2 = pd.read_csv(\"data/courses.csv\").iloc[-3:]\n",
    "pdi.sidebyside(pd.concat([df1, df2]), \n",
    "               pd.concat([df1, df2], ignore_index=True))"
   ]
  },
  {
   "cell_type": "markdown",
   "id": "a1da01be-18e3-43cf-972a-68a6882eaf88",
   "metadata": {},
   "source": [
    "![img](pandas.assets/1SyW83FIGHBKgMGyNmTJ0Ug.png)"
   ]
  },
  {
   "cell_type": "markdown",
   "id": "889633b7-f766-4821-881e-979cd875c7e0",
   "metadata": {},
   "source": [
    "## Horizontal stacking\n",
    "\n",
    "![img](pandas.assets/1lS1W9lUTqAu3F6vjCdqf7Q.png)"
   ]
  },
  {
   "cell_type": "markdown",
   "id": "dcfe5950-5f61-4f11-a535-4eb863b97d56",
   "metadata": {},
   "source": [
    "## 1:1 Relationship joins\n",
    "\n",
    "![img](pandas.assets/1mEANaOr9HRR69IuMGn1esg.png)\n",
    "\n",
    "If the column is already in the index, you can use `join`\n",
    "\n",
    "![img](pandas.assets/1qhqIn9Aw51jCwSA4wrH4Lw.png)\n",
    "\n",
    "If the column you want to merge on is not in the index, use `merge.`\n",
    "\n",
    "![img](pandas.assets/1BQLUmwoXCosorw-1eWT-7w.png)"
   ]
  },
  {
   "cell_type": "markdown",
   "id": "0d158ebc-2f0d-4ee0-9ea1-ee0cbff69e58",
   "metadata": {},
   "source": [
    "## 1:n Relationship joins\n",
    "\n",
    "![img](pandas.assets/17Q-lAZNYhTRLxMEcG6wdUQ.png)\n",
    "\n",
    "Now, if the column to merge on is already in the index of the right DataFrame, use `join` (or `merge` with `right_index=True`, which is exactly the same thing):\n",
    "\n",
    "![img](pandas.assets/1lnCpYttPfSsp2KImx1PZtA.png)\n",
    "\n",
    "join() does left outer join by default\n",
    "\n",
    "Sometimes, joined dataframes have columns with the same name.\n",
    "\n",
    "![img](pandas.assets/1MquOSCrtVO9Vj18-V91hSQ.png)"
   ]
  },
  {
   "cell_type": "markdown",
   "id": "06220127-d88a-4406-a5cb-e4548bc5f11f",
   "metadata": {},
   "source": [
    "## Multiple joins\n",
    "\n",
    "![img](pandas.assets/173WqDpx0NuSHgNHZnaNLLQ.png)"
   ]
  },
  {
   "cell_type": "markdown",
   "id": "91f9c69d-a5da-4510-8f5a-246eb959e051",
   "metadata": {},
   "source": [
    "## Inserts and deletes\n",
    "\n",
    "![img](pandas.assets/17XRaXsl0ytSI8IPDXauUfg.png)"
   ]
  },
  {
   "cell_type": "code",
   "execution_count": null,
   "id": "44addced-4e6e-4c30-970b-bc5afbeae101",
   "metadata": {},
   "outputs": [],
   "source": [
    "df = pd.DataFrame(np.arange(1, 7).reshape(2, -1),\n",
    "                 columns=list(\"ABC\"),\n",
    "                 index=list(\"ab\"))\n",
    "df1 = pd.DataFrame(np.insert(df.values, 1, values=[7, 8, 9], axis=0))\n",
    "df.insert(1, \"D\", [7, 8])\n",
    "pdi.sidebyside(df, df1)"
   ]
  },
  {
   "cell_type": "markdown",
   "id": "7b51cfac-7bb8-49b3-83d1-0b569d5cf525",
   "metadata": {},
   "source": [
    "Deleting columns is usually worry-free, except that `del df['D']` works while `del df.D` doesn’t (limitation on the Python level).\n",
    "![img](pandas.assets/146V9fMGZv4UrCT3gW2-m7Q.png)"
   ]
  },
  {
   "cell_type": "code",
   "execution_count": null,
   "id": "2f1271e9-68ca-48e3-9e88-e0691f455997",
   "metadata": {},
   "outputs": [],
   "source": [
    "df = pd.DataFrame(np.arange(1, 10).reshape(3, -1),\n",
    "                 columns=list(\"ABC\"),\n",
    "                 index=list(\"abc\"))\n",
    "df1 = df.drop(index=\"b\", inplace=False)\n",
    "df2 = df.drop(columns=\"B\", inplace=False)\n",
    "pdi.sidebyside(df, df1, df2)"
   ]
  },
  {
   "cell_type": "markdown",
   "id": "21f2f8bd-48d3-4d27-9be4-e5e73826d5c7",
   "metadata": {},
   "source": [
    "## Group by\n",
    "\n",
    "![img](pandas.assets/1J7n3A7uLJ55L0CFGHF2EhA.png)\n",
    "\n",
    "![img](pandas.assets/1Lbqy_M1eTJWuoarH814Qyg.png)"
   ]
  }
 ],
 "metadata": {
  "kernelspec": {
   "display_name": "learn",
   "language": "python",
   "name": "learn"
  },
  "language_info": {
   "codemirror_mode": {
    "name": "ipython",
    "version": 3
   },
   "file_extension": ".py",
   "mimetype": "text/x-python",
   "name": "python",
   "nbconvert_exporter": "python",
   "pygments_lexer": "ipython3",
   "version": "3.11.2"
  }
 },
 "nbformat": 4,
 "nbformat_minor": 5
}
