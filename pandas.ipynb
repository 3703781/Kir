{
 "cells": [
  {
   "cell_type": "markdown",
   "id": "7875ed66-df15-4ff5-a4ed-4ce43936f9e8",
   "metadata": {},
   "source": [
    "# Pandas基础\n",
    "\n",
    "https://betterprogramming.pub/pandas-illustrated-the-definitive-visual-guide-to-pandas-c31fa921a43\n",
    "\n",
    "10 minutes to pandas\n",
    "https://pandas.pydata.org/pandas-docs/stable/user_guide/10min.html"
   ]
  },
  {
   "cell_type": "markdown",
   "id": "e827e7e4-34c9-4438-b16c-bdd72ef754b2",
   "metadata": {},
   "source": [
    "**安装** Jupyer Notebook里，在要执行的命令前加 **!**"
   ]
  },
  {
   "cell_type": "code",
   "execution_count": null,
   "id": "54944812-b946-4f06-b533-d83efc1f6f5f",
   "metadata": {},
   "outputs": [],
   "source": [
    "#!pip install pandas"
   ]
  },
  {
   "cell_type": "markdown",
   "id": "b0abce6e-b688-4c75-8c60-451014372e3b",
   "metadata": {},
   "source": [
    "或者，用conda安装\n",
    "```shell\n",
    "$ conda activate learn\n",
    "$ conda install pandas\n",
    "```"
   ]
  },
  {
   "cell_type": "code",
   "execution_count": null,
   "id": "c9e8946e-0198-439d-915b-5688be714617",
   "metadata": {},
   "outputs": [],
   "source": [
    "import numpy as np\n",
    "import pandas as pd"
   ]
  },
  {
   "cell_type": "markdown",
   "id": "d9519233-f98f-4e2f-86a8-8c921b3e8dda",
   "metadata": {},
   "source": [
    "# Object creation <<\n",
    "\n",
    "Creating a `Series` by passing a list of values, letting pandas create a default integer index:"
   ]
  },
  {
   "cell_type": "code",
   "execution_count": null,
   "id": "18a49059-cf12-439d-9e63-7240f3821e72",
   "metadata": {},
   "outputs": [],
   "source": [
    "s = pd.Series([1, 3, 5, np.nan, 6, 8])\n",
    "s"
   ]
  },
  {
   "cell_type": "markdown",
   "id": "1e8620e8-3f37-4c90-b0ef-3bd015496f25",
   "metadata": {},
   "source": [
    "Creating a `DataFrame` by passing a NumPy array, with a datetime index using `date_range()` and labeled columns:"
   ]
  },
  {
   "cell_type": "code",
   "execution_count": null,
   "id": "009982db-4ad1-4b87-a0a9-7b9a630047c5",
   "metadata": {},
   "outputs": [],
   "source": [
    "dates = pd.date_range(\"20130101\", periods=6)\n",
    "df = pd.DataFrame(np.random.randn(6, 4), index=dates, columns=list(\"ABCD\"))\n",
    "display(dates)\n",
    "display(df)"
   ]
  },
  {
   "cell_type": "markdown",
   "id": "f10d52c6-99bc-4975-8c25-255c764b638f",
   "metadata": {},
   "source": [
    "Creating a `DataFrame` by passing a dictionary of objects that can be converted into a series-like structure:"
   ]
  },
  {
   "cell_type": "code",
   "execution_count": null,
   "id": "6fc5df2d-188a-4f8e-a8fa-9e436feda531",
   "metadata": {},
   "outputs": [],
   "source": [
    "df2 = pd.DataFrame(\n",
    "    {\n",
    "        \"A\": 1.0,\n",
    "        \"B\": pd.Timestamp(\"20130102\"),\n",
    "        \"C\": pd.Series(1, index=list(range(4)), dtype=\"float32\"),\n",
    "        \"D\": np.array([3] * 4, dtype=\"int32\"),\n",
    "        \"E\": pd.Categorical([\"test\", \"train\", \"test\", \"train\"]),\n",
    "        \"F\": \"foo\",\n",
    "    }\n",
    ")\n",
    "display(df2)"
   ]
  },
  {
   "cell_type": "markdown",
   "id": "6804c527-ba92-4926-afab-effc4dbf2f9e",
   "metadata": {},
   "source": [
    "The columns of the resulting `DataFrame` have different dtypes:"
   ]
  },
  {
   "cell_type": "code",
   "execution_count": null,
   "id": "d363b0c6-114a-49f2-9726-ee6888c30a22",
   "metadata": {},
   "outputs": [],
   "source": [
    "df2.dtypes"
   ]
  },
  {
   "cell_type": "markdown",
   "id": "617970de-052e-4d03-ae00-be30c2c638a5",
   "metadata": {},
   "source": [
    "If you’re using IPython, tab completion for column names (as well as public attributes) is automatically enabled. Here’s a subset of the attributes that will be completed:\n",
    "\n",
    "df2.\\<TAB\\>"
   ]
  },
  {
   "cell_type": "code",
   "execution_count": null,
   "id": "45cbe9b2-77bd-4029-89a8-89752c981020",
   "metadata": {},
   "outputs": [],
   "source": [
    "# df2."
   ]
  },
  {
   "cell_type": "markdown",
   "id": "a8719f44-d557-48c9-b6c2-ff1f01f471c1",
   "metadata": {},
   "source": [
    "# Viewing data <<"
   ]
  },
  {
   "cell_type": "markdown",
   "id": "4c525a52-4d2c-4f61-b8f1-a7129d25e35a",
   "metadata": {},
   "source": [
    "Use `DataFrame.head()` and `DataFrame.tail()` to view the top and bottom rows of the frame respectively:"
   ]
  },
  {
   "cell_type": "code",
   "execution_count": null,
   "id": "0e01ba33-c528-471d-93d9-39987aa95f6f",
   "metadata": {},
   "outputs": [],
   "source": [
    "display(df.head())\n",
    "display(df.tail(3))"
   ]
  },
  {
   "cell_type": "markdown",
   "id": "14ae36f2-e9d6-464b-9770-ce6552209956",
   "metadata": {},
   "source": [
    "Display the `DataFrame.index` or `DataFrame.columns`:"
   ]
  },
  {
   "cell_type": "code",
   "execution_count": null,
   "id": "ad15577a-243d-4455-a6a3-22adbca33908",
   "metadata": {},
   "outputs": [],
   "source": [
    "display(df.index)\n",
    "display(df.columns)"
   ]
  },
  {
   "cell_type": "markdown",
   "id": "cc2bc353-10b6-42e7-b6a6-172a382107af",
   "metadata": {},
   "source": [
    "`DataFrame.to_numpy()` gives a NumPy representation of the underlying data. Note that this can be an expensive operation when your `DataFrame` has columns with different data types, which comes down to a fundamental difference between pandas and NumPy: **NumPy arrays have one dtype for the entire array, while pandas DataFrames have one dtype per column.** When you call `DataFrame.to_numpy()`, pandas will find the NumPy dtype that can hold all of the dtypes in the DataFrame. This may end up being object, which requires casting every value to a Python object.\n",
    "\n",
    "For `df`, our `DataFrame` of all floating-point values, and `DataFrame.to_numpy()` is fast and doesn’t require copying data:"
   ]
  },
  {
   "cell_type": "code",
   "execution_count": null,
   "id": "8e75cfb3-864b-4a46-8297-98d5e5f8e099",
   "metadata": {},
   "outputs": [],
   "source": [
    "df.to_numpy()"
   ]
  },
  {
   "cell_type": "markdown",
   "id": "cd21348b-8465-4938-b683-f7b75f970c7f",
   "metadata": {},
   "source": [
    "For `df2`, the DataFrame with multiple dtypes, `DataFrame.to_numpy()` is relatively expensive:"
   ]
  },
  {
   "cell_type": "code",
   "execution_count": null,
   "id": "4eaa4722-f98b-45a1-9ea7-fe13da65dfe6",
   "metadata": {},
   "outputs": [],
   "source": [
    "df2.to_numpy()"
   ]
  },
  {
   "cell_type": "markdown",
   "id": "1b808987-5328-4123-98fc-9feb888802a3",
   "metadata": {},
   "source": [
    "> `DataFrame.to_numpy()` does not include the index or column labels in the output.\n",
    "\n",
    "`describe()` shows a quick statistic summary of your data:"
   ]
  },
  {
   "cell_type": "code",
   "execution_count": null,
   "id": "fae3be3c-fb25-40bc-895c-c868e5815a89",
   "metadata": {},
   "outputs": [],
   "source": [
    "df.describe()"
   ]
  },
  {
   "cell_type": "markdown",
   "id": "70e40e59-c99b-4dde-b760-b1e36723203a",
   "metadata": {},
   "source": [
    "Transposing your data:"
   ]
  },
  {
   "cell_type": "code",
   "execution_count": null,
   "id": "98da2544-18a2-4c93-8f7c-5badd187dc35",
   "metadata": {},
   "outputs": [],
   "source": [
    "df.T"
   ]
  },
  {
   "cell_type": "markdown",
   "id": "ab87c8c4-eb75-447b-8925-0991625c3573",
   "metadata": {},
   "source": [
    "`DataFrame.sort_index()` sorts by an axis:"
   ]
  },
  {
   "cell_type": "code",
   "execution_count": null,
   "id": "746dd64f-b13c-45eb-bcea-7edf1b225b04",
   "metadata": {},
   "outputs": [],
   "source": [
    "df.sort_index(axis=1, ascending=False)"
   ]
  },
  {
   "cell_type": "markdown",
   "id": "01ca7eda-2fd4-449d-be58-b1c537193a04",
   "metadata": {},
   "source": [
    "`DataFrame.sort_values()` sorts by values:"
   ]
  },
  {
   "cell_type": "code",
   "execution_count": null,
   "id": "4d08b9b3-706a-4477-bd5c-56a2f1be2554",
   "metadata": {},
   "outputs": [],
   "source": [
    "df.sort_values(by=\"B\")"
   ]
  },
  {
   "cell_type": "markdown",
   "id": "0211e293-4f65-4ae7-805e-5d1a725c3b3a",
   "metadata": {},
   "source": [
    "# Selection <<\n",
    "\n",
    "> While standard Python / NumPy expressions for selecting and setting are intuitive and come in handy for interactive work, for production code, we recommend the optimized pandas data access methods, `DataFrame.at()`, `DataFrame.iat()`, `DataFrame.loc()` and `DataFrame.iloc()`."
   ]
  },
  {
   "cell_type": "markdown",
   "id": "bc588780-18e6-41fd-a353-48249283aa86",
   "metadata": {},
   "source": [
    "## Getting\n",
    "\n",
    "Selecting a single column, which yields a `Series`, equivalent to `df.A`:"
   ]
  },
  {
   "cell_type": "code",
   "execution_count": null,
   "id": "4fcc9c86-a961-4e76-8511-ccde3348e7b0",
   "metadata": {},
   "outputs": [],
   "source": [
    "df[\"A\"]"
   ]
  },
  {
   "cell_type": "markdown",
   "id": "2b5503a7-28b8-494a-aa23-14bf5706d4c3",
   "metadata": {},
   "source": [
    "Selecting via [] (__getitem__), which slices the rows:"
   ]
  },
  {
   "cell_type": "code",
   "execution_count": null,
   "id": "3c5e9ad2-bd71-47d0-a6e6-8ee0d978a94d",
   "metadata": {},
   "outputs": [],
   "source": [
    "display(df[0:3])\n",
    "display(df[\"20130102\":\"20130104\"])"
   ]
  },
  {
   "cell_type": "markdown",
   "id": "81033534-a072-491c-b1bb-4c8f008b85e3",
   "metadata": {},
   "source": [
    "## Selection by label\n",
    "\n",
    "For getting a cross section using a label:"
   ]
  },
  {
   "cell_type": "code",
   "execution_count": null,
   "id": "eb338de8-4c8e-4952-b28c-f9a93b7f8b9f",
   "metadata": {},
   "outputs": [],
   "source": [
    "df.loc[dates[0]]"
   ]
  },
  {
   "cell_type": "markdown",
   "id": "f955a986-94f5-472c-a1dd-7706dc8ce010",
   "metadata": {},
   "source": [
    "Selecting on a multi-axis by label:"
   ]
  },
  {
   "cell_type": "code",
   "execution_count": null,
   "id": "ad187f9a-4f16-46ec-9582-c48f6ad2f860",
   "metadata": {},
   "outputs": [],
   "source": [
    "df.loc[:, [\"A\", \"B\"]]"
   ]
  },
  {
   "cell_type": "markdown",
   "id": "48a2120d-5d89-456b-9e41-871bec42ea90",
   "metadata": {},
   "source": [
    "Showing label slicing, both endpoints are included:"
   ]
  },
  {
   "cell_type": "code",
   "execution_count": null,
   "id": "acc1463f-bc1c-487c-a502-08dfbb21b967",
   "metadata": {},
   "outputs": [],
   "source": [
    "df.loc[\"20130102\":\"20130104\", [\"A\", \"B\"]]"
   ]
  },
  {
   "cell_type": "markdown",
   "id": "e72534ef-c092-4978-9c44-42e2e6ed8f30",
   "metadata": {},
   "source": [
    "Reduction in the dimensions of the returned object:"
   ]
  },
  {
   "cell_type": "code",
   "execution_count": null,
   "id": "6c236456-c3ad-4792-a5d3-575a7fcc4192",
   "metadata": {},
   "outputs": [],
   "source": [
    "df.loc[\"20130102\", [\"A\", \"B\"]]"
   ]
  },
  {
   "cell_type": "markdown",
   "id": "2025185b-9881-4d46-83d9-fea818e424f9",
   "metadata": {},
   "source": [
    "For getting a scalar value:"
   ]
  },
  {
   "cell_type": "code",
   "execution_count": null,
   "id": "f2cb7530-a251-42db-923d-24db2b703f87",
   "metadata": {},
   "outputs": [],
   "source": [
    "df.loc[dates[0], \"A\"]"
   ]
  },
  {
   "cell_type": "markdown",
   "id": "546e40d0-92f9-4f26-950e-4c5ff425d6c0",
   "metadata": {},
   "source": [
    "For getting fast access to a scalar (equivalent to the prior method):"
   ]
  },
  {
   "cell_type": "code",
   "execution_count": null,
   "id": "d0adbb04-4ff2-40f3-adbf-b25fddf08760",
   "metadata": {},
   "outputs": [],
   "source": [
    "df.at[dates[0], \"A\"]"
   ]
  },
  {
   "cell_type": "markdown",
   "id": "4003fc74-5739-407b-9edb-9586a92571fa",
   "metadata": {},
   "source": [
    "## Selection by position\n",
    "\n",
    "Select via the position of the passed integers:"
   ]
  },
  {
   "cell_type": "code",
   "execution_count": null,
   "id": "fafd6a84-90a7-4f28-9c24-e6edc3e74d18",
   "metadata": {},
   "outputs": [],
   "source": [
    "df.iloc[3]"
   ]
  },
  {
   "cell_type": "markdown",
   "id": "2b85206d-37f4-46c9-b902-b8170cc737a1",
   "metadata": {},
   "source": [
    "By integer slices, acting similar to NumPy/Python:"
   ]
  },
  {
   "cell_type": "code",
   "execution_count": null,
   "id": "af3a104b-6276-497b-8095-18d1a6679384",
   "metadata": {},
   "outputs": [],
   "source": [
    "df.iloc[3:5, 0:2]"
   ]
  },
  {
   "cell_type": "markdown",
   "id": "5f092642-c32e-48bd-9922-a3b24f6d41a5",
   "metadata": {},
   "source": [
    "By lists of integer position locations, similar to the NumPy/Python style:"
   ]
  },
  {
   "cell_type": "code",
   "execution_count": null,
   "id": "50ca05e3-79cd-46e4-83ca-a7a3379c629e",
   "metadata": {},
   "outputs": [],
   "source": [
    "df.iloc[[1, 2, 4], [0, 2]]"
   ]
  },
  {
   "cell_type": "markdown",
   "id": "a8e3e79e-2e05-4b41-aa7d-246536006dcc",
   "metadata": {},
   "source": [
    "For slicing rows explicitly:"
   ]
  },
  {
   "cell_type": "code",
   "execution_count": null,
   "id": "a6e05f64-c7ef-48eb-94b5-b7ac37bb6a98",
   "metadata": {},
   "outputs": [],
   "source": [
    "df.iloc[1:3, :]"
   ]
  },
  {
   "cell_type": "markdown",
   "id": "9abbfd45-94d1-42f0-89a7-2c1aa635ac8a",
   "metadata": {},
   "source": [
    "For slicing columns explicitly:"
   ]
  },
  {
   "cell_type": "code",
   "execution_count": null,
   "id": "dc1ba3ac-18a7-4c65-9eda-83852a6c5146",
   "metadata": {},
   "outputs": [],
   "source": [
    "df.iloc[:, 1:3]"
   ]
  },
  {
   "cell_type": "markdown",
   "id": "c6ec6c63-7c6d-4995-80b7-f33dd47cf70a",
   "metadata": {},
   "source": [
    "For getting a value explicitly:"
   ]
  },
  {
   "cell_type": "code",
   "execution_count": null,
   "id": "9d9bd014-d7c6-4f6e-a858-04e347037e3a",
   "metadata": {},
   "outputs": [],
   "source": [
    "df.iloc[1, 1]"
   ]
  },
  {
   "cell_type": "markdown",
   "id": "d71936c9-35b2-4c62-b494-4f5869aad80e",
   "metadata": {},
   "source": [
    "For getting fast access to a scalar (equivalent to the prior method):"
   ]
  },
  {
   "cell_type": "code",
   "execution_count": null,
   "id": "7716a532-f05d-47ab-9e83-0cd463bdcee9",
   "metadata": {},
   "outputs": [],
   "source": [
    "df.iat[1, 1]"
   ]
  },
  {
   "cell_type": "markdown",
   "id": "8223b091-cb93-4b83-9fa7-0cde4ac9ccce",
   "metadata": {},
   "source": [
    "## Boolean indexing\n",
    "\n",
    "Using a single column’s values to select data:"
   ]
  },
  {
   "cell_type": "code",
   "execution_count": null,
   "id": "47c3ed3e-24c4-4a86-921f-de3f85422fb1",
   "metadata": {},
   "outputs": [],
   "source": [
    "df[df[\"A\"] > 0]"
   ]
  },
  {
   "cell_type": "markdown",
   "id": "59729357-cc17-49cf-af8c-acca0d23b6bc",
   "metadata": {},
   "source": [
    "Selecting values from a DataFrame where a boolean condition is met:"
   ]
  },
  {
   "cell_type": "code",
   "execution_count": null,
   "id": "9aa4d532-96e1-418f-8fb1-cc5e9e19da2c",
   "metadata": {},
   "outputs": [],
   "source": [
    "df[df > 0]"
   ]
  },
  {
   "cell_type": "markdown",
   "id": "9ddcff66-4ae1-4517-8251-52b737424e94",
   "metadata": {},
   "source": [
    "Using the `isin()` method for filtering:"
   ]
  },
  {
   "cell_type": "code",
   "execution_count": null,
   "id": "5691c6d0-da8f-40bc-8397-f701b9c78202",
   "metadata": {},
   "outputs": [],
   "source": [
    "df2 = df.copy()\n",
    "df2[\"E\"] = [\"one\", \"one\", \"two\", \"three\", \"four\", \"three\"]\n",
    "display(df2)\n",
    "display(df2[df2[\"E\"].isin([\"two\", \"four\"])])"
   ]
  },
  {
   "cell_type": "markdown",
   "id": "b27fea78-9db3-419a-8d3b-0f8ddcf388bf",
   "metadata": {},
   "source": [
    "## Setting"
   ]
  },
  {
   "cell_type": "markdown",
   "id": "b542f521-28a0-4544-88d3-bf679e5886d6",
   "metadata": {},
   "source": [
    "Setting a new column automatically aligns the data by the indexes:"
   ]
  },
  {
   "cell_type": "code",
   "execution_count": null,
   "id": "4833c4e1-55ba-4730-83b6-173ae3143014",
   "metadata": {},
   "outputs": [],
   "source": [
    "s1 = pd.Series([1, 2, 3, 4, 5, 6], index=pd.date_range(\"20130102\", periods=6))\n",
    "display(s1)"
   ]
  },
  {
   "cell_type": "code",
   "execution_count": null,
   "id": "9f1caee7-f03b-4167-bd40-d58d987f4f38",
   "metadata": {},
   "outputs": [],
   "source": [
    "df[\"F\"] = s1\n",
    "display(df)"
   ]
  },
  {
   "cell_type": "markdown",
   "id": "f368fdf4-b3ac-41b0-b542-e286014d190d",
   "metadata": {},
   "source": [
    "Setting values by label:"
   ]
  },
  {
   "cell_type": "code",
   "execution_count": null,
   "id": "c547810c-fddb-4d43-af79-094e67e78c90",
   "metadata": {},
   "outputs": [],
   "source": [
    "df.at[dates[0], \"A\"] = 0\n",
    "display(df)"
   ]
  },
  {
   "cell_type": "markdown",
   "id": "bee638e0-0772-4bee-9e8d-61727fb797c4",
   "metadata": {},
   "source": [
    "Setting values by position:"
   ]
  },
  {
   "cell_type": "code",
   "execution_count": null,
   "id": "346f4f02-585c-4f88-82c9-562c65ce3132",
   "metadata": {},
   "outputs": [],
   "source": [
    "df.iat[0, 1] = 0\n",
    "display(df)"
   ]
  },
  {
   "cell_type": "markdown",
   "id": "9efd65dc-b5f4-41cc-a48c-36317157647c",
   "metadata": {},
   "source": [
    "Setting by assigning with a NumPy array:"
   ]
  },
  {
   "cell_type": "code",
   "execution_count": null,
   "id": "52606ffd-2d23-4394-82ff-d5f01395a865",
   "metadata": {},
   "outputs": [],
   "source": [
    "df.loc[:, \"D\"] = np.array([5] * len(df))\n",
    "display(df)"
   ]
  },
  {
   "cell_type": "markdown",
   "id": "4f5ea3e4-5bd1-4671-ade1-96d3dd3761a3",
   "metadata": {},
   "source": [
    "A `where` operation with setting:"
   ]
  },
  {
   "cell_type": "code",
   "execution_count": null,
   "id": "9db254be-36ec-4e2c-aef1-3db20e2f97bf",
   "metadata": {},
   "outputs": [],
   "source": [
    "df2 = df.copy()\n",
    "df2[df2 > 0] = -df2\n",
    "display(df2)"
   ]
  },
  {
   "cell_type": "markdown",
   "id": "14aeaaee-6cfb-4370-b27b-442fb32bd92b",
   "metadata": {},
   "source": [
    "# Missing data <<\n",
    "\n",
    "pandas primarily uses the value np.nan to represent missing data. It is by default not included in computations. \n",
    "\n",
    "Reindexing allows you to change/add/delete the index on a specified axis. This returns a copy of the data:"
   ]
  },
  {
   "cell_type": "code",
   "execution_count": null,
   "id": "6207cdf3-5af7-469c-a318-88de256bfe30",
   "metadata": {},
   "outputs": [],
   "source": [
    "df1 = df.reindex(index=dates[0:4], columns=list(df.columns) + [\"E\"])\n",
    "df1.loc[dates[0] : dates[1], \"E\"] = 1\n",
    "display(df1)"
   ]
  },
  {
   "cell_type": "markdown",
   "id": "39ed981a-5545-4339-8e55-1164d8c7035d",
   "metadata": {},
   "source": [
    "`DataFrame.dropna()` drops any rows that have missing data:"
   ]
  },
  {
   "cell_type": "code",
   "execution_count": null,
   "id": "0645cdb7-c7e4-415a-859e-ebb351e7ae7c",
   "metadata": {},
   "outputs": [],
   "source": [
    "df1.dropna(how=\"any\")"
   ]
  },
  {
   "cell_type": "markdown",
   "id": "ef7c718e-fe4a-46fb-9b57-d8a0a471cdec",
   "metadata": {},
   "source": [
    "`DataFrame.fillna()` fills missing data:"
   ]
  },
  {
   "cell_type": "code",
   "execution_count": null,
   "id": "f8b50aaf-f931-4184-824b-a12feaeeea66",
   "metadata": {},
   "outputs": [],
   "source": [
    "df1.fillna(value=5)"
   ]
  },
  {
   "cell_type": "markdown",
   "id": "64bd7350-e2db-4f21-96a7-9fa534c4bf5b",
   "metadata": {},
   "source": [
    "`isna()` gets the boolean mask where values are `nan`:"
   ]
  },
  {
   "cell_type": "code",
   "execution_count": null,
   "id": "baaaca76-7d02-4f1a-b30a-8a57b21153cb",
   "metadata": {},
   "outputs": [],
   "source": [
    "pd.isna(df1)"
   ]
  },
  {
   "cell_type": "markdown",
   "id": "d3dea8c9-0e7e-4ff5-9d17-6b25a981ba6c",
   "metadata": {},
   "source": [
    "# Operations <<"
   ]
  },
  {
   "cell_type": "markdown",
   "id": "b6fa3340-7721-46e7-ab0d-edeba7661d3f",
   "metadata": {},
   "source": [
    "## Stats\n",
    "\n",
    "Operations in general exclude missing data.\n",
    "Performing a descriptive statistic:"
   ]
  },
  {
   "cell_type": "code",
   "execution_count": null,
   "id": "2dd73763-5cfd-4af9-8694-72c7377fb5c8",
   "metadata": {},
   "outputs": [],
   "source": [
    "df.mean()"
   ]
  },
  {
   "cell_type": "code",
   "execution_count": null,
   "id": "c832424f-9032-4ed7-9f58-d1b7d2158adc",
   "metadata": {},
   "outputs": [],
   "source": [
    "df.mean(1)"
   ]
  },
  {
   "cell_type": "markdown",
   "id": "a70ba300-db5e-4424-8d42-1a4916835fe2",
   "metadata": {},
   "source": [
    "Operating with objects that have different dimensionality and need alignment. In addition, pandas automatically broadcasts along the specified dimension:"
   ]
  },
  {
   "cell_type": "code",
   "execution_count": null,
   "id": "5dddad7e-f523-4204-8079-0793a796760f",
   "metadata": {},
   "outputs": [],
   "source": [
    "s = pd.Series([1, 3, 5, np.nan, 6, 8], index=dates).shift(2)\n",
    "s"
   ]
  },
  {
   "cell_type": "code",
   "execution_count": null,
   "id": "f19f24a0-0bdf-4c6c-8fb8-8ea3a808441a",
   "metadata": {},
   "outputs": [],
   "source": [
    "df.sub(s, axis=\"index\")"
   ]
  },
  {
   "cell_type": "markdown",
   "id": "a10de1de-3115-4f31-9727-a12057eb7032",
   "metadata": {},
   "source": [
    "## Apply\n",
    "\n",
    "`DataFrame.apply()` applies a user defined function to the data:"
   ]
  },
  {
   "cell_type": "code",
   "execution_count": null,
   "id": "c54264e8-11ef-47f2-8107-c376c16e1fa4",
   "metadata": {},
   "outputs": [],
   "source": [
    "df.apply(np.cumsum)"
   ]
  },
  {
   "cell_type": "code",
   "execution_count": null,
   "id": "52f8a8c7-c4fb-4778-8c40-896ed0c9c22d",
   "metadata": {},
   "outputs": [],
   "source": [
    "df.apply(lambda x: x.max() - x.min())"
   ]
  },
  {
   "cell_type": "markdown",
   "id": "77068f38-02c1-48c7-81eb-0944b7d96b75",
   "metadata": {},
   "source": [
    "## Histogramming >>"
   ]
  },
  {
   "cell_type": "code",
   "execution_count": null,
   "id": "343665be-bee0-4c67-816a-5f22e8b9dcc6",
   "metadata": {},
   "outputs": [],
   "source": [
    "s = pd.Series(np.random.randint(0, 7, size=10))\n",
    "s"
   ]
  },
  {
   "cell_type": "code",
   "execution_count": null,
   "id": "a9de68f1-2672-4b35-8b15-56c572feaf84",
   "metadata": {},
   "outputs": [],
   "source": [
    "s.value_counts()"
   ]
  },
  {
   "cell_type": "markdown",
   "id": "f4fa20b1-125c-4009-8feb-a171b931ed4e",
   "metadata": {},
   "source": [
    "## String Methods"
   ]
  },
  {
   "cell_type": "markdown",
   "id": "f383eeba-9430-42df-a9a9-a1acd3688f11",
   "metadata": {},
   "source": [
    "Series is equipped with a set of string processing methods in the str attribute that make it easy to operate on each element of the array, as in the code snippet below. Note that pattern-matching in str generally uses regular expressions by default (and in some cases always uses them). See more at Vectorized String Methods."
   ]
  },
  {
   "cell_type": "code",
   "execution_count": null,
   "id": "f4073c98-6aec-4fac-9013-6314633e26e2",
   "metadata": {},
   "outputs": [],
   "source": [
    "s = pd.Series([\"A\", \"B\", \"C\", \"Aaba\", \"Baca\", np.nan, \"CABA\", \"dog\", \"cat\"])\n",
    "s.str.lower()"
   ]
  },
  {
   "cell_type": "markdown",
   "id": "67b5433d-8a98-499b-bd38-98f619f1ca32",
   "metadata": {},
   "source": [
    "# Merge"
   ]
  },
  {
   "cell_type": "markdown",
   "id": "ae117b95-b4cd-44f9-af2b-365832af8210",
   "metadata": {},
   "source": [
    "## Concat <<\n",
    "\n",
    "pandas provides various facilities for easily combining together Series and DataFrame objects with various kinds of set logic for the indexes and relational algebra functionality in the case of join / merge-type operations.\n",
    "\n",
    "Concatenating pandas objects together along an axis with `concat()`:"
   ]
  },
  {
   "cell_type": "code",
   "execution_count": null,
   "id": "6faf11bc-a33b-434a-b2e2-c7b38d576c3c",
   "metadata": {},
   "outputs": [],
   "source": [
    "df = pd.DataFrame(np.random.randn(10, 4))\n",
    "df"
   ]
  },
  {
   "cell_type": "code",
   "execution_count": null,
   "id": "6d354400-d4ce-45a8-a461-ca98ecd3670e",
   "metadata": {},
   "outputs": [],
   "source": [
    "pieces = [df[:3], df[3:7], df[7:]]\n",
    "pd.concat(pieces)"
   ]
  },
  {
   "cell_type": "markdown",
   "id": "8e2a6118-cd19-4c06-af43-4b982b0cf8dd",
   "metadata": {},
   "source": [
    "> Adding a column to a `DataFrame` is relatively fast. However, adding a row requires a copy, and may be expensive. We recommend passing a pre-built list of records to the `DataFrame` constructor instead of building a `DataFrame` by iteratively appending records to it."
   ]
  },
  {
   "cell_type": "markdown",
   "id": "66dce225-7019-416e-a754-a593695c5758",
   "metadata": {},
   "source": [
    "## Join\n",
    "\n",
    "`merge()` enables SQL style join types along specific columns. "
   ]
  },
  {
   "cell_type": "code",
   "execution_count": null,
   "id": "57ce3671-07ca-474f-b49b-35607dea8b5c",
   "metadata": {},
   "outputs": [],
   "source": [
    "left = pd.DataFrame({\"key\": [\"foo\", \"foo\"], \"lval\": [1, 2]})\n",
    "left"
   ]
  },
  {
   "cell_type": "code",
   "execution_count": null,
   "id": "4e7231f2-e26f-4d85-8e61-412794d18991",
   "metadata": {},
   "outputs": [],
   "source": [
    "right = pd.DataFrame({\"key\": [\"foo\", \"foo\"], \"rval\": [4, 5]})\n",
    "right"
   ]
  },
  {
   "cell_type": "markdown",
   "id": "90f425f5-059e-4856-8787-cf38b7cf82c2",
   "metadata": {},
   "source": [
    "Another example that can be given is:"
   ]
  },
  {
   "cell_type": "code",
   "execution_count": null,
   "id": "84367c28-9de0-4fcd-8172-be3bdc2dc0cc",
   "metadata": {},
   "outputs": [],
   "source": [
    "pd.merge(left, right, on=\"key\")"
   ]
  },
  {
   "cell_type": "code",
   "execution_count": null,
   "id": "3d9b333d-0261-4cdf-b4c3-335f7c56892c",
   "metadata": {},
   "outputs": [],
   "source": [
    "left = pd.DataFrame({\"key\": [\"foo\", \"bar\"], \"lval\": [1, 2]})\n",
    "left"
   ]
  },
  {
   "cell_type": "code",
   "execution_count": null,
   "id": "162a8a6e-4893-4113-bd95-1883227f6c3b",
   "metadata": {},
   "outputs": [],
   "source": [
    "right = pd.DataFrame({\"key\": [\"foo\", \"bar\"], \"rval\": [4, 5]})\n",
    "right"
   ]
  },
  {
   "cell_type": "code",
   "execution_count": null,
   "id": "bba12c4e-757c-4aa7-883c-c875aac1d596",
   "metadata": {},
   "outputs": [],
   "source": [
    "pd.merge(left, right, on=\"key\")"
   ]
  },
  {
   "cell_type": "markdown",
   "id": "b70b5fa9-df31-42f2-a6c7-aed0df2760f9",
   "metadata": {},
   "source": [
    "# Grouping <<\n",
    "\n",
    "By “group by” we are referring to a process involving one or more of the following steps:\n",
    "\n",
    "- **Splitting** the data into groups based on some criteria\n",
    "- **Applying** a function to each group independently\n",
    "- **Combining** the results into a data structure"
   ]
  },
  {
   "cell_type": "code",
   "execution_count": null,
   "id": "0e011ddf-0daa-4adc-b759-e9e20e1bd297",
   "metadata": {},
   "outputs": [],
   "source": [
    "df = pd.DataFrame(\n",
    "    {\n",
    "        \"A\": [\"foo\", \"bar\", \"foo\", \"bar\", \"foo\", \"bar\", \"foo\", \"foo\"],\n",
    "        \"B\": [\"one\", \"one\", \"two\", \"three\", \"two\", \"two\", \"one\", \"three\"],\n",
    "        \"C\": np.random.randn(8),\n",
    "        \"D\": np.random.randn(8),\n",
    "    }\n",
    ")\n",
    "df"
   ]
  },
  {
   "cell_type": "markdown",
   "id": "b446bfac-1f62-462f-bf8c-8373b65bde41",
   "metadata": {},
   "source": [
    "Grouping and then applying the `sum()` function to the resulting groups:"
   ]
  },
  {
   "cell_type": "code",
   "execution_count": null,
   "id": "cb450dd2-98d0-4cde-8d4e-3285ad48e15f",
   "metadata": {},
   "outputs": [],
   "source": [
    "df.groupby(\"A\")[[\"C\", \"D\"]].sum()"
   ]
  },
  {
   "cell_type": "code",
   "execution_count": null,
   "id": "186d5206-98ff-4eb6-b414-90c8590089c1",
   "metadata": {},
   "outputs": [],
   "source": [
    "df.groupby([\"A\", \"B\"]).sum()"
   ]
  },
  {
   "cell_type": "markdown",
   "id": "30a636bb-1f0a-4e67-b59c-7a408e910409",
   "metadata": {},
   "source": [
    "# Reshaping"
   ]
  },
  {
   "cell_type": "markdown",
   "id": "50ec782c-62c6-409b-9f4c-276705172138",
   "metadata": {},
   "source": [
    "## Stack"
   ]
  },
  {
   "cell_type": "code",
   "execution_count": null,
   "id": "ce93c1e0-b292-43bd-a272-770d493fc204",
   "metadata": {},
   "outputs": [],
   "source": [
    "tuples = list(\n",
    "    zip(\n",
    "        [\"bar\", \"bar\", \"baz\", \"baz\", \"foo\", \"foo\", \"qux\", \"qux\"],\n",
    "        [\"one\", \"two\", \"one\", \"two\", \"one\", \"two\", \"one\", \"two\"],\n",
    "    )\n",
    ")\n",
    "tuples"
   ]
  },
  {
   "cell_type": "code",
   "execution_count": null,
   "id": "13de66d7-c86d-4567-8291-ae7262e16ec7",
   "metadata": {},
   "outputs": [],
   "source": [
    "index = pd.MultiIndex.from_tuples(tuples, names=[\"first\", \"second\"])\n",
    "index"
   ]
  },
  {
   "cell_type": "code",
   "execution_count": null,
   "id": "53d6590e-b61f-4379-81a4-afce52cbbede",
   "metadata": {},
   "outputs": [],
   "source": [
    "df = pd.DataFrame(np.random.randn(8, 2), index=index, columns=[\"A\", \"B\"])\n",
    "display(df)\n",
    "df2 = df[:4]\n",
    "display(df2)"
   ]
  },
  {
   "cell_type": "markdown",
   "id": "e2d2050b-b0b2-4933-9a47-9fc8767f5ae4",
   "metadata": {},
   "source": [
    "The `stack()` method “compresses” a level in the DataFrame’s columns:"
   ]
  },
  {
   "cell_type": "code",
   "execution_count": null,
   "id": "006cfd87-f461-48a4-8197-1838cf376b81",
   "metadata": {},
   "outputs": [],
   "source": [
    "stacked = df2.stack()\n",
    "stacked"
   ]
  },
  {
   "cell_type": "markdown",
   "id": "08b13724-c766-4c27-bec9-8774bfba0de6",
   "metadata": {},
   "source": [
    "With a “stacked” DataFrame or Series (having a `MultiIndex` as the `index`), the inverse operation of `stack()` is `unstack()`, which by default unstacks the **last level**:"
   ]
  },
  {
   "cell_type": "code",
   "execution_count": null,
   "id": "027694c3-028e-4696-9d07-f71f1fda24a9",
   "metadata": {},
   "outputs": [],
   "source": [
    "display(stacked.unstack())\n",
    "display(stacked.unstack(2))"
   ]
  },
  {
   "cell_type": "code",
   "execution_count": null,
   "id": "ce10f0d1-8cea-4723-a7f6-cc73e2f1641e",
   "metadata": {},
   "outputs": [],
   "source": [
    "display(stacked.unstack(1))\n",
    "display(stacked.unstack(0))"
   ]
  },
  {
   "cell_type": "markdown",
   "id": "8895f784-c578-4686-8ecd-9889c37e3b47",
   "metadata": {},
   "source": [
    "## Pivot tables <<"
   ]
  },
  {
   "cell_type": "code",
   "execution_count": null,
   "id": "17699b70-b225-49de-a461-a7d5b256fcab",
   "metadata": {},
   "outputs": [],
   "source": [
    "df = pd.DataFrame(\n",
    "    {\n",
    "        \"A\": [\"one\", \"one\", \"two\", \"three\"] * 3,\n",
    "        \"B\": [\"A\", \"B\", \"C\"] * 4,\n",
    "        \"C\": [\"foo\", \"foo\", \"foo\", \"bar\", \"bar\", \"bar\"] * 2,\n",
    "        \"D\": np.random.randn(12),\n",
    "        \"E\": np.random.randn(12),\n",
    "    }\n",
    ")\n",
    "df"
   ]
  },
  {
   "cell_type": "code",
   "execution_count": null,
   "id": "2b758def-707f-45d5-9050-10727f7c21f3",
   "metadata": {},
   "outputs": [],
   "source": [
    "pd.pivot_table(df, values=\"D\", index=[\"A\", \"B\"], columns=[\"C\"])"
   ]
  },
  {
   "cell_type": "markdown",
   "id": "56c0fd83-b771-43e9-a26a-6280a63cc794",
   "metadata": {},
   "source": [
    "# Time series"
   ]
  },
  {
   "cell_type": "markdown",
   "id": "4fc28a27-9340-46a8-8ff8-d4a615e82834",
   "metadata": {},
   "source": [
    "pandas has simple, powerful, and efficient functionality for performing resampling operations during frequency conversion (e.g., converting secondly data into 5-minutely data). This is extremely common in, but not limited to, financial applications."
   ]
  },
  {
   "cell_type": "code",
   "execution_count": null,
   "id": "1f2893c0-3083-4725-b5b2-2471fb3b2196",
   "metadata": {},
   "outputs": [],
   "source": [
    "rng = pd.date_range(\"1/1/2012\", periods=100, freq=\"S\")\n",
    "rng"
   ]
  },
  {
   "cell_type": "code",
   "execution_count": null,
   "id": "3bb25ea9-3963-435b-9b8a-e5a0670f9d9a",
   "metadata": {
    "tags": []
   },
   "outputs": [],
   "source": [
    "ts = pd.Series(np.random.randint(0, 500, len(rng)), index=rng)\n",
    "ts"
   ]
  },
  {
   "cell_type": "code",
   "execution_count": null,
   "id": "c009f15a-9049-4bb5-9faf-8d0378bb84c5",
   "metadata": {},
   "outputs": [],
   "source": [
    "ts.resample(\"5S\").mean()"
   ]
  },
  {
   "cell_type": "markdown",
   "id": "0e3edea9-5267-4ea2-b599-fc2170184534",
   "metadata": {},
   "source": [
    "`Series.tz_localize()` localizes a time series to a time zone:"
   ]
  },
  {
   "cell_type": "code",
   "execution_count": null,
   "id": "440901e8-2339-48ab-9712-41571c606179",
   "metadata": {},
   "outputs": [],
   "source": [
    "ts_utc = ts.tz_localize(\"UTC\")\n",
    "ts_utc"
   ]
  },
  {
   "cell_type": "markdown",
   "id": "d771c317-9136-44cd-9f65-0c7a55a6ea0a",
   "metadata": {},
   "source": [
    "`Series.tz_convert()` converts a timezones aware time series to another time zone:"
   ]
  },
  {
   "cell_type": "code",
   "execution_count": null,
   "id": "33a0ceb8-bca4-46f3-9ae6-49b80ee61aad",
   "metadata": {},
   "outputs": [],
   "source": [
    "ts_utc.tz_convert(\"Asia/Shanghai\")"
   ]
  },
  {
   "cell_type": "markdown",
   "id": "feaf6362-5793-4927-935c-c1bece55ad44",
   "metadata": {},
   "source": [
    "Converting between time span representations:"
   ]
  },
  {
   "cell_type": "code",
   "execution_count": null,
   "id": "86c9d6b6-c0e7-4ff6-a364-8da0fb8b9c81",
   "metadata": {},
   "outputs": [],
   "source": [
    "ps = ts.to_period()\n",
    "ps"
   ]
  },
  {
   "cell_type": "code",
   "execution_count": null,
   "id": "1bb87ffc-3d1f-4c29-85be-fb97e90273a9",
   "metadata": {},
   "outputs": [],
   "source": [
    "ps.to_timestamp()"
   ]
  },
  {
   "cell_type": "markdown",
   "id": "a6edd03f-492e-4a9a-9e81-b053c980d177",
   "metadata": {},
   "source": [
    "Converting between period and timestamp enables some convenient arithmetic functions to be used. In the following example, we convert a quarterly frequency with year ending in November to 9am of the end of the month following the quarter end:"
   ]
  },
  {
   "cell_type": "code",
   "execution_count": null,
   "id": "740dce35-bf7c-4e05-918e-ab419841147d",
   "metadata": {},
   "outputs": [],
   "source": [
    "prng = pd.period_range(\"1995Q1\", \"2000Q4\", freq=\"Q-NOV\")\n",
    "prng"
   ]
  },
  {
   "cell_type": "code",
   "execution_count": null,
   "id": "9835749d-c3e5-482d-9dc0-a8f69b742289",
   "metadata": {},
   "outputs": [],
   "source": [
    "ts = pd.Series(np.random.randn(len(prng)), prng)\n",
    "ts"
   ]
  },
  {
   "cell_type": "code",
   "execution_count": null,
   "id": "3603b329-ba78-463b-8944-dc89106fabb7",
   "metadata": {},
   "outputs": [],
   "source": [
    "ts.index = (prng.asfreq(\"M\", \"e\") + 1).asfreq(\"H\", \"s\") + 9\n",
    "ts"
   ]
  },
  {
   "cell_type": "markdown",
   "id": "dd4f8cb5-78b3-4679-8ffc-e6733ff140ae",
   "metadata": {},
   "source": [
    "# Categoricals\n",
    "\n",
    "pandas can include categorical data in a `DataFrame`."
   ]
  },
  {
   "cell_type": "code",
   "execution_count": null,
   "id": "eec3bf83-f36e-4b7c-b02a-0ef83524f6e9",
   "metadata": {},
   "outputs": [],
   "source": [
    "df = pd.DataFrame(\n",
    "    {\"id\": [1, 2, 3, 4, 5, 6], \"raw_grade\": [\"a\", \"b\", \"b\", \"a\", \"a\", \"e\"]}\n",
    ")\n",
    "df"
   ]
  },
  {
   "cell_type": "markdown",
   "id": "4397e4fd-a3af-4358-a514-2f744326b9e4",
   "metadata": {},
   "source": [
    "Converting the raw grades to a categorical data type:"
   ]
  },
  {
   "cell_type": "code",
   "execution_count": null,
   "id": "ff6b23e4-f34a-4850-9fdf-f561777fbe73",
   "metadata": {},
   "outputs": [],
   "source": [
    "df[\"grade\"] = df[\"raw_grade\"].astype(\"category\")"
   ]
  },
  {
   "cell_type": "markdown",
   "id": "8a51fc3f-3651-432f-830c-10ea1cb89314",
   "metadata": {},
   "source": [
    "Rename the categories to more meaningful names:"
   ]
  },
  {
   "cell_type": "code",
   "execution_count": null,
   "id": "e0adce19-0347-4d07-9a99-bd955e7e26b2",
   "metadata": {},
   "outputs": [],
   "source": [
    "new_categories = [\"very good\", \"good\", \"very bad\"]\n",
    "df[\"grade\"] = df[\"grade\"].cat.rename_categories(new_categories)\n",
    "df"
   ]
  },
  {
   "cell_type": "markdown",
   "id": "9f32f07e-971d-49ad-91fa-4e3832853481",
   "metadata": {},
   "source": [
    "Reorder the categories and simultaneously add the missing categories (methods under `Series.cat()` return a new `Series` by default):"
   ]
  },
  {
   "cell_type": "code",
   "execution_count": null,
   "id": "4a3c59f4-a6f5-42d9-834c-6d903d8e023e",
   "metadata": {},
   "outputs": [],
   "source": [
    "df[\"grade\"] = df[\"grade\"].cat.set_categories(\n",
    "    [\"very bad\", \"bad\", \"medium\", \"good\", \"very good\"]\n",
    ")\n",
    "df"
   ]
  },
  {
   "cell_type": "markdown",
   "id": "41087ba6-5be9-414c-8d2a-97d724699d4a",
   "metadata": {},
   "source": [
    "Sorting is per order in the categories, not lexical order:"
   ]
  },
  {
   "cell_type": "code",
   "execution_count": null,
   "id": "cca0e3ec-11c7-4f73-9ac6-070cdd1213f0",
   "metadata": {},
   "outputs": [],
   "source": [
    "df.sort_values(by=\"grade\")"
   ]
  },
  {
   "cell_type": "code",
   "execution_count": null,
   "id": "b6d6ffbc-df4f-4082-924b-5621e975ed59",
   "metadata": {},
   "outputs": [],
   "source": [
    "df.groupby(\"grade\").size()"
   ]
  },
  {
   "cell_type": "markdown",
   "id": "ca5dd024-6ade-4549-86a3-86f9f2f13d75",
   "metadata": {},
   "source": [
    "# Plotting <<\n",
    "\n",
    "We use the standard convention for referencing the matplotlib API:"
   ]
  },
  {
   "cell_type": "code",
   "execution_count": null,
   "id": "1dd30aaf-56a4-4f98-9326-89c01c01edef",
   "metadata": {},
   "outputs": [],
   "source": [
    "import matplotlib.pyplot as plt"
   ]
  },
  {
   "cell_type": "code",
   "execution_count": null,
   "id": "d6ed89e0-fdb0-49c0-b1cd-442f0dfe27e8",
   "metadata": {},
   "outputs": [],
   "source": [
    "ts = pd.Series(np.random.randn(1000), index=pd.date_range(\"1/1/2000\", periods=1000))\n",
    "ts = ts.cumsum()\n",
    "ts.plot()"
   ]
  },
  {
   "cell_type": "markdown",
   "id": "af256d49-dc14-4fcc-a414-f61fd6f6f45b",
   "metadata": {},
   "source": [
    "On a DataFrame, the `plot()` method is a convenience to plot all of the columns with labels:"
   ]
  },
  {
   "cell_type": "code",
   "execution_count": null,
   "id": "a37dbf80-0de1-4060-aaa5-f8b5f741dfe7",
   "metadata": {},
   "outputs": [],
   "source": [
    "df = pd.DataFrame(\n",
    "    np.random.randn(1000, 4), index=ts.index, columns=[\"A\", \"B\", \"C\", \"D\"]\n",
    ")\n",
    "df = df.cumsum()\n",
    "plt.figure();\n",
    "df.plot();\n",
    "plt.legend(loc='best');"
   ]
  },
  {
   "cell_type": "markdown",
   "id": "9b7dba49-9ce6-4995-9863-f1cc8598a50c",
   "metadata": {},
   "source": [
    "# CSV <<\n",
    "Writing to a csv file: using DataFrame.to_csv()"
   ]
  },
  {
   "cell_type": "code",
   "execution_count": null,
   "id": "18e74703-ecc7-4bc3-8567-2b1182b5e33b",
   "metadata": {},
   "outputs": [],
   "source": [
    "df = pd.DataFrame(\n",
    "    np.random.randn(1000, 4), index=ts.index, columns=[\"A\", \"B\", \"C\", \"D\"]\n",
    ")\n",
    "df = df.cumsum()\n",
    "df.to_csv(\"foo.csv\")"
   ]
  },
  {
   "cell_type": "markdown",
   "id": "61df77e3-6df5-4f2e-8c56-e8a2b3d0d63c",
   "metadata": {},
   "source": [
    "Reading from a csv file: using `read_csv()`"
   ]
  },
  {
   "cell_type": "code",
   "execution_count": null,
   "id": "aa037137-c276-4692-98b1-9e1c1ecb318f",
   "metadata": {},
   "outputs": [],
   "source": [
    "pd.read_csv(\"foo.csv\")"
   ]
  },
  {
   "cell_type": "markdown",
   "id": "b5cfdf80-aae3-4e4a-bb3f-f4c318c97080",
   "metadata": {},
   "source": [
    "# HDF5\n",
    "Reading and writing to HDFStores.\n",
    "\n",
    "Writing to a HDF5 Store using `DataFrame.to_hdf()`:"
   ]
  },
  {
   "cell_type": "code",
   "execution_count": null,
   "id": "7c984bf1-3fc4-444a-bad7-33900876cf25",
   "metadata": {
    "tags": []
   },
   "outputs": [],
   "source": [
    "df.to_hdf(\"foo.h5\", \"df\")\n",
    "pd.read_hdf(\"foo.h5\", \"df\")"
   ]
  },
  {
   "cell_type": "markdown",
   "id": "bea7e615-65fb-45fa-a302-5db96958ad66",
   "metadata": {},
   "source": [
    "# Excel <<\n",
    "\n",
    "Reading and writing to Excel.\n",
    "\n",
    "Writing to an excel file using `DataFrame.to_excel()`:"
   ]
  },
  {
   "cell_type": "code",
   "execution_count": null,
   "id": "763970d8-f612-46c8-8edc-75768fe3e926",
   "metadata": {
    "tags": []
   },
   "outputs": [],
   "source": [
    "df.to_excel(\"foo.xlsx\", sheet_name=\"Sheet1\")"
   ]
  },
  {
   "cell_type": "code",
   "execution_count": null,
   "id": "d7249189-f99f-44f5-a5c6-fac3618a118a",
   "metadata": {
    "tags": []
   },
   "outputs": [],
   "source": [
    "pd.read_excel(\"foo.xlsx\", \"Sheet1\", index_col=None, na_values=[\"NA\"])"
   ]
  }
 ],
 "metadata": {
  "kernelspec": {
   "display_name": "learn",
   "language": "python",
   "name": "learn"
  },
  "language_info": {
   "codemirror_mode": {
    "name": "ipython",
    "version": 3
   },
   "file_extension": ".py",
   "mimetype": "text/x-python",
   "name": "python",
   "nbconvert_exporter": "python",
   "pygments_lexer": "ipython3",
   "version": "3.11.2"
  },
  "toc-autonumbering": false,
  "toc-showcode": false,
  "toc-showmarkdowntxt": false
 },
 "nbformat": 4,
 "nbformat_minor": 5
}
